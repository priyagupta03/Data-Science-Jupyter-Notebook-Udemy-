{
 "cells": [
  {
   "cell_type": "markdown",
   "metadata": {},
   "source": [
    "<hr style=\"border:5px solid #002060\"> </hr>"
   ]
  },
  {
   "cell_type": "markdown",
   "metadata": {},
   "source": [
    "# pandas Fundamentals <hr style=\"border:4.5px solid #002060\"> </hr>"
   ]
  },
  {
   "cell_type": "markdown",
   "metadata": {},
   "source": [
    "## Introduction to pandas Series"
   ]
  },
  {
   "cell_type": "code",
   "execution_count": 1,
   "metadata": {},
   "outputs": [],
   "source": [
    "import pandas as pd"
   ]
  },
  {
   "cell_type": "code",
   "execution_count": 2,
   "metadata": {},
   "outputs": [
    {
     "data": {
      "text/plain": [
       "['A', 'B', 'C', 'D']"
      ]
     },
     "execution_count": 2,
     "metadata": {},
     "output_type": "execute_result"
    }
   ],
   "source": [
    "products = ['A', 'B', 'C', 'D']\n",
    "products"
   ]
  },
  {
   "cell_type": "code",
   "execution_count": 3,
   "metadata": {},
   "outputs": [
    {
     "data": {
      "text/plain": [
       "list"
      ]
     },
     "execution_count": 3,
     "metadata": {},
     "output_type": "execute_result"
    }
   ],
   "source": [
    "type(products)"
   ]
  },
  {
   "cell_type": "code",
   "execution_count": 4,
   "metadata": {},
   "outputs": [],
   "source": [
    "product_categories = pd.Series(products)"
   ]
  },
  {
   "cell_type": "code",
   "execution_count": 5,
   "metadata": {},
   "outputs": [
    {
     "data": {
      "text/plain": [
       "0    A\n",
       "1    B\n",
       "2    C\n",
       "3    D\n",
       "dtype: object"
      ]
     },
     "execution_count": 5,
     "metadata": {},
     "output_type": "execute_result"
    }
   ],
   "source": [
    "product_categories"
   ]
  },
  {
   "cell_type": "code",
   "execution_count": 6,
   "metadata": {},
   "outputs": [
    {
     "data": {
      "text/plain": [
       "pandas.core.series.Series"
      ]
     },
     "execution_count": 6,
     "metadata": {},
     "output_type": "execute_result"
    }
   ],
   "source": [
    "type(product_categories)"
   ]
  },
  {
   "cell_type": "code",
   "execution_count": 7,
   "metadata": {
    "scrolled": true
   },
   "outputs": [
    {
     "data": {
      "text/plain": [
       "pandas.core.series.Series"
      ]
     },
     "execution_count": 7,
     "metadata": {},
     "output_type": "execute_result"
    }
   ],
   "source": [
    "type(pd.Series(products))"
   ]
  },
  {
   "cell_type": "code",
   "execution_count": 8,
   "metadata": {},
   "outputs": [
    {
     "data": {
      "text/plain": [
       "0    40\n",
       "1    45\n",
       "2    50\n",
       "3    60\n",
       "dtype: int64"
      ]
     },
     "execution_count": 8,
     "metadata": {},
     "output_type": "execute_result"
    }
   ],
   "source": [
    "daily_rates_dollars = pd.Series([40, 45, 50, 60])\n",
    "daily_rates_dollars"
   ]
  },
  {
   "cell_type": "code",
   "execution_count": 9,
   "metadata": {},
   "outputs": [
    {
     "name": "stdout",
     "output_type": "stream",
     "text": [
      "0    40\n",
      "1    45\n",
      "2    50\n",
      "3    60\n",
      "dtype: int64\n"
     ]
    }
   ],
   "source": [
    "print(daily_rates_dollars)"
   ]
  },
  {
   "cell_type": "code",
   "execution_count": 10,
   "metadata": {},
   "outputs": [],
   "source": [
    "import numpy as np"
   ]
  },
  {
   "cell_type": "code",
   "execution_count": 11,
   "metadata": {},
   "outputs": [
    {
     "data": {
      "text/plain": [
       "array([10, 20, 30, 40, 50])"
      ]
     },
     "execution_count": 11,
     "metadata": {},
     "output_type": "execute_result"
    }
   ],
   "source": [
    "array_a = np.array([10, 20, 30, 40, 50])\n",
    "array_a"
   ]
  },
  {
   "cell_type": "code",
   "execution_count": 12,
   "metadata": {},
   "outputs": [
    {
     "data": {
      "text/plain": [
       "numpy.ndarray"
      ]
     },
     "execution_count": 12,
     "metadata": {},
     "output_type": "execute_result"
    }
   ],
   "source": [
    "type(array_a)"
   ]
  },
  {
   "cell_type": "code",
   "execution_count": 13,
   "metadata": {},
   "outputs": [
    {
     "data": {
      "text/plain": [
       "0    10\n",
       "1    20\n",
       "2    30\n",
       "3    40\n",
       "4    50\n",
       "dtype: int32"
      ]
     },
     "execution_count": 13,
     "metadata": {},
     "output_type": "execute_result"
    }
   ],
   "source": [
    "series_a = pd.Series(array_a)\n",
    "series_a"
   ]
  },
  {
   "cell_type": "code",
   "execution_count": 14,
   "metadata": {},
   "outputs": [
    {
     "name": "stdout",
     "output_type": "stream",
     "text": [
      "0    10\n",
      "1    20\n",
      "2    30\n",
      "3    40\n",
      "4    50\n",
      "dtype: int32\n"
     ]
    }
   ],
   "source": [
    "print(series_a)"
   ]
  },
  {
   "cell_type": "code",
   "execution_count": 15,
   "metadata": {},
   "outputs": [
    {
     "data": {
      "text/plain": [
       "pandas.core.series.Series"
      ]
     },
     "execution_count": 15,
     "metadata": {},
     "output_type": "execute_result"
    }
   ],
   "source": [
    "type(series_a)"
   ]
  },
  {
   "cell_type": "markdown",
   "metadata": {},
   "source": [
    "## Working with Methods in Python - Part I"
   ]
  },
  {
   "cell_type": "code",
   "execution_count": 16,
   "metadata": {},
   "outputs": [],
   "source": [
    "import pandas as pd"
   ]
  },
  {
   "cell_type": "code",
   "execution_count": 17,
   "metadata": {},
   "outputs": [],
   "source": [
    "start_date_deposits = pd.Series({\n",
    "    '7/4/2014'   : 2000,\n",
    "    '1/2/2015'   : 2000,\n",
    "    '12/8/2012'  : 1000,\n",
    "    '2/20/2015'  : 2000,\n",
    "    '10/28/2013' : 2000,\n",
    "    '4/19/2015'  : 2000,\n",
    "    '7/4/2016'   : 2000,\n",
    "    '4/24/2014'  : 2000,\n",
    "    '9/3/2015'   : 4000,\n",
    "    '7/25/2016'  : 2000,\n",
    "    '5/1/2014'   : 2000,\n",
    "    '3/29/2013'  : 2000,\n",
    "    '10/3/2014'  : 2000,\n",
    "    '9/18/2015'  : 2500\n",
    "})"
   ]
  },
  {
   "cell_type": "code",
   "execution_count": 18,
   "metadata": {},
   "outputs": [
    {
     "data": {
      "text/plain": [
       "7/4/2014      2000\n",
       "1/2/2015      2000\n",
       "12/8/2012     1000\n",
       "2/20/2015     2000\n",
       "10/28/2013    2000\n",
       "4/19/2015     2000\n",
       "7/4/2016      2000\n",
       "4/24/2014     2000\n",
       "9/3/2015      4000\n",
       "7/25/2016     2000\n",
       "5/1/2014      2000\n",
       "3/29/2013     2000\n",
       "10/3/2014     2000\n",
       "9/18/2015     2500\n",
       "dtype: int64"
      ]
     },
     "execution_count": 18,
     "metadata": {},
     "output_type": "execute_result"
    }
   ],
   "source": [
    "start_date_deposits"
   ]
  },
  {
   "cell_type": "code",
   "execution_count": 19,
   "metadata": {
    "scrolled": true
   },
   "outputs": [
    {
     "data": {
      "text/plain": [
       "<bound method Series.sum of 7/4/2014      2000\n",
       "1/2/2015      2000\n",
       "12/8/2012     1000\n",
       "2/20/2015     2000\n",
       "10/28/2013    2000\n",
       "4/19/2015     2000\n",
       "7/4/2016      2000\n",
       "4/24/2014     2000\n",
       "9/3/2015      4000\n",
       "7/25/2016     2000\n",
       "5/1/2014      2000\n",
       "3/29/2013     2000\n",
       "10/3/2014     2000\n",
       "9/18/2015     2500\n",
       "dtype: int64>"
      ]
     },
     "execution_count": 19,
     "metadata": {},
     "output_type": "execute_result"
    }
   ],
   "source": [
    "start_date_deposits.sum"
   ]
  },
  {
   "cell_type": "code",
   "execution_count": 20,
   "metadata": {},
   "outputs": [
    {
     "data": {
      "text/plain": [
       "29500"
      ]
     },
     "execution_count": 20,
     "metadata": {},
     "output_type": "execute_result"
    }
   ],
   "source": [
    "start_date_deposits.sum()"
   ]
  },
  {
   "cell_type": "code",
   "execution_count": 21,
   "metadata": {},
   "outputs": [
    {
     "data": {
      "text/plain": [
       "1000"
      ]
     },
     "execution_count": 21,
     "metadata": {},
     "output_type": "execute_result"
    }
   ],
   "source": [
    "start_date_deposits.min()"
   ]
  },
  {
   "cell_type": "code",
   "execution_count": 22,
   "metadata": {},
   "outputs": [
    {
     "data": {
      "text/plain": [
       "4000"
      ]
     },
     "execution_count": 22,
     "metadata": {},
     "output_type": "execute_result"
    }
   ],
   "source": [
    "start_date_deposits.max()"
   ]
  },
  {
   "cell_type": "code",
   "execution_count": 23,
   "metadata": {},
   "outputs": [
    {
     "data": {
      "text/plain": [
       "'9/3/2015'"
      ]
     },
     "execution_count": 23,
     "metadata": {},
     "output_type": "execute_result"
    }
   ],
   "source": [
    "start_date_deposits.idxmax()"
   ]
  },
  {
   "cell_type": "code",
   "execution_count": 24,
   "metadata": {
    "scrolled": true
   },
   "outputs": [
    {
     "data": {
      "text/plain": [
       "'12/8/2012'"
      ]
     },
     "execution_count": 24,
     "metadata": {},
     "output_type": "execute_result"
    }
   ],
   "source": [
    "start_date_deposits.idxmin()"
   ]
  },
  {
   "cell_type": "markdown",
   "metadata": {},
   "source": [
    "## Working with Methods in Python - Part II"
   ]
  },
  {
   "cell_type": "code",
   "execution_count": 25,
   "metadata": {},
   "outputs": [],
   "source": [
    "import pandas as pd"
   ]
  },
  {
   "cell_type": "code",
   "execution_count": 26,
   "metadata": {},
   "outputs": [],
   "source": [
    "start_date_deposits = pd.Series({\n",
    "    '7/4/2014'   : 2000,\n",
    "    '1/2/2015'   : 2000,\n",
    "    '12/8/2012'  : 1000,\n",
    "    '2/20/2015'  : 2000,\n",
    "    '10/28/2013' : 2000,\n",
    "    '4/19/2015'  : 2000,\n",
    "    '7/4/2016'   : 2000,\n",
    "    '4/24/2014'  : 2000,\n",
    "    '9/3/2015'   : 4000,\n",
    "    '7/25/2016'  : 2000,\n",
    "    '5/1/2014'   : 2000,\n",
    "    '3/29/2013'  : 2000,\n",
    "    '10/3/2014'  : 2000,\n",
    "    '9/18/2015'  : 2500\n",
    "})"
   ]
  },
  {
   "cell_type": "code",
   "execution_count": 27,
   "metadata": {},
   "outputs": [
    {
     "data": {
      "text/plain": [
       "7/4/2014      2000\n",
       "1/2/2015      2000\n",
       "12/8/2012     1000\n",
       "2/20/2015     2000\n",
       "10/28/2013    2000\n",
       "4/19/2015     2000\n",
       "7/4/2016      2000\n",
       "4/24/2014     2000\n",
       "9/3/2015      4000\n",
       "7/25/2016     2000\n",
       "5/1/2014      2000\n",
       "3/29/2013     2000\n",
       "10/3/2014     2000\n",
       "9/18/2015     2500\n",
       "dtype: int64"
      ]
     },
     "execution_count": 27,
     "metadata": {},
     "output_type": "execute_result"
    }
   ],
   "source": [
    "start_date_deposits"
   ]
  },
  {
   "cell_type": "code",
   "execution_count": 28,
   "metadata": {},
   "outputs": [
    {
     "data": {
      "text/plain": [
       "7/4/2014      2000\n",
       "1/2/2015      2000\n",
       "12/8/2012     1000\n",
       "2/20/2015     2000\n",
       "10/28/2013    2000\n",
       "dtype: int64"
      ]
     },
     "execution_count": 28,
     "metadata": {},
     "output_type": "execute_result"
    }
   ],
   "source": [
    "start_date_deposits.head()"
   ]
  },
  {
   "cell_type": "code",
   "execution_count": 29,
   "metadata": {},
   "outputs": [
    {
     "data": {
      "text/plain": [
       "7/25/2016    2000\n",
       "5/1/2014     2000\n",
       "3/29/2013    2000\n",
       "10/3/2014    2000\n",
       "9/18/2015    2500\n",
       "dtype: int64"
      ]
     },
     "execution_count": 29,
     "metadata": {},
     "output_type": "execute_result"
    }
   ],
   "source": [
    "start_date_deposits.tail()"
   ]
  },
  {
   "cell_type": "markdown",
   "metadata": {},
   "source": [
    "## Parameters and Arguments in pandas"
   ]
  },
  {
   "cell_type": "code",
   "execution_count": 30,
   "metadata": {},
   "outputs": [],
   "source": [
    "import pandas as pd"
   ]
  },
  {
   "cell_type": "code",
   "execution_count": 31,
   "metadata": {},
   "outputs": [],
   "source": [
    "start_date_deposits = pd.Series({\n",
    "    '7/4/2014'   : 2000,\n",
    "    '1/2/2015'   : 2000,\n",
    "    '12/8/2012'  : 1000,\n",
    "    '2/20/2015'  : 2000,\n",
    "    '10/28/2013' : 2000,\n",
    "    '4/19/2015'  : 2000,\n",
    "    '7/4/2016'   : 2000,\n",
    "    '4/24/2014'  : 2000,\n",
    "    '9/3/2015'   : 4000,\n",
    "    '7/25/2016'  : 2000,\n",
    "    '5/1/2014'   : 2000,\n",
    "    '3/29/2013'  : 2000,\n",
    "    '10/3/2014'  : 2000,\n",
    "    '9/18/2015'  : 2500\n",
    "})"
   ]
  },
  {
   "cell_type": "code",
   "execution_count": 32,
   "metadata": {},
   "outputs": [
    {
     "data": {
      "text/plain": [
       "7/4/2014      2000\n",
       "1/2/2015      2000\n",
       "12/8/2012     1000\n",
       "2/20/2015     2000\n",
       "10/28/2013    2000\n",
       "dtype: int64"
      ]
     },
     "execution_count": 32,
     "metadata": {},
     "output_type": "execute_result"
    }
   ],
   "source": [
    "start_date_deposits.head()"
   ]
  },
  {
   "cell_type": "code",
   "execution_count": 33,
   "metadata": {},
   "outputs": [
    {
     "data": {
      "text/plain": [
       "7/4/2014     2000\n",
       "1/2/2015     2000\n",
       "12/8/2012    1000\n",
       "dtype: int64"
      ]
     },
     "execution_count": 33,
     "metadata": {},
     "output_type": "execute_result"
    }
   ],
   "source": [
    "start_date_deposits.head(3)"
   ]
  },
  {
   "cell_type": "code",
   "execution_count": 34,
   "metadata": {},
   "outputs": [
    {
     "data": {
      "text/plain": [
       "7/4/2014      2000\n",
       "1/2/2015      2000\n",
       "12/8/2012     1000\n",
       "2/20/2015     2000\n",
       "10/28/2013    2000\n",
       "4/19/2015     2000\n",
       "7/4/2016      2000\n",
       "4/24/2014     2000\n",
       "9/3/2015      4000\n",
       "7/25/2016     2000\n",
       "dtype: int64"
      ]
     },
     "execution_count": 34,
     "metadata": {},
     "output_type": "execute_result"
    }
   ],
   "source": [
    "start_date_deposits.head(10)"
   ]
  },
  {
   "cell_type": "code",
   "execution_count": 35,
   "metadata": {
    "scrolled": true
   },
   "outputs": [
    {
     "data": {
      "text/plain": [
       "7/4/2014      2000\n",
       "1/2/2015      2000\n",
       "12/8/2012     1000\n",
       "2/20/2015     2000\n",
       "10/28/2013    2000\n",
       "dtype: int64"
      ]
     },
     "execution_count": 35,
     "metadata": {},
     "output_type": "execute_result"
    }
   ],
   "source": [
    "start_date_deposits.head()"
   ]
  },
  {
   "cell_type": "code",
   "execution_count": 36,
   "metadata": {},
   "outputs": [
    {
     "data": {
      "text/plain": [
       "7/4/2014      2000\n",
       "1/2/2015      2000\n",
       "12/8/2012     1000\n",
       "2/20/2015     2000\n",
       "10/28/2013    2000\n",
       "4/19/2015     2000\n",
       "7/4/2016      2000\n",
       "4/24/2014     2000\n",
       "9/3/2015      4000\n",
       "7/25/2016     2000\n",
       "dtype: int64"
      ]
     },
     "execution_count": 36,
     "metadata": {},
     "output_type": "execute_result"
    }
   ],
   "source": [
    "start_date_deposits.head(n=10)"
   ]
  },
  {
   "cell_type": "markdown",
   "metadata": {},
   "source": [
    "## Using .unique() and .nunique()"
   ]
  },
  {
   "cell_type": "code",
   "execution_count": 37,
   "metadata": {},
   "outputs": [
    {
     "data": {
      "text/plain": [
       "0     Location 3\n",
       "1     Location 6\n",
       "2     Location 8\n",
       "3    Location 26\n",
       "4    Location 34\n",
       "Name: Location, dtype: object"
      ]
     },
     "execution_count": 37,
     "metadata": {},
     "output_type": "execute_result"
    }
   ],
   "source": [
    "data = pd.read_csv('Location.csv', squeeze = True)\n",
    "location_data = data.copy()\n",
    "location_data.head()"
   ]
  },
  {
   "cell_type": "code",
   "execution_count": 38,
   "metadata": {},
   "outputs": [
    {
     "data": {
      "text/plain": [
       "pandas.core.series.Series"
      ]
     },
     "execution_count": 38,
     "metadata": {},
     "output_type": "execute_result"
    }
   ],
   "source": [
    "type(location_data)"
   ]
  },
  {
   "cell_type": "code",
   "execution_count": 39,
   "metadata": {},
   "outputs": [
    {
     "data": {
      "text/plain": [
       "count            1043\n",
       "unique            296\n",
       "top       Location 25\n",
       "freq               31\n",
       "Name: Location, dtype: object"
      ]
     },
     "execution_count": 39,
     "metadata": {},
     "output_type": "execute_result"
    }
   ],
   "source": [
    "location_data.describe()"
   ]
  },
  {
   "cell_type": "code",
   "execution_count": 40,
   "metadata": {},
   "outputs": [
    {
     "data": {
      "text/plain": [
       "1043"
      ]
     },
     "execution_count": 40,
     "metadata": {},
     "output_type": "execute_result"
    }
   ],
   "source": [
    "len(location_data)"
   ]
  },
  {
   "cell_type": "code",
   "execution_count": 43,
   "metadata": {},
   "outputs": [
    {
     "data": {
      "text/plain": [
       "296"
      ]
     },
     "execution_count": 43,
     "metadata": {},
     "output_type": "execute_result"
    }
   ],
   "source": [
    "location_data.nunique()"
   ]
  },
  {
   "cell_type": "code",
   "execution_count": 44,
   "metadata": {},
   "outputs": [
    {
     "data": {
      "text/plain": [
       "int"
      ]
     },
     "execution_count": 44,
     "metadata": {},
     "output_type": "execute_result"
    }
   ],
   "source": [
    "type(location_data.nunique())"
   ]
  },
  {
   "cell_type": "code",
   "execution_count": 45,
   "metadata": {},
   "outputs": [
    {
     "data": {
      "text/plain": [
       "array(['Location 3', 'Location 6', 'Location 8', 'Location 26',\n",
       "       'Location 34', 'Location 25', 'Location 46', 'Location 156',\n",
       "       'Location 21', 'Location 13', 'Location 579', 'Location 602',\n",
       "       'Location 10', 'Location 44', 'Location 30', 'Location 48',\n",
       "       'Location 196', 'Location 64', 'Location 91', 'Location 62',\n",
       "       'Location 75', 'Location 42', 'Location 233', 'Location 95',\n",
       "       'Location 78', 'Location 61', 'Location 87', 'Location 19',\n",
       "       'Location 115', 'Location 350', 'Location 377', 'Location 17',\n",
       "       'Location 113', 'Location 81', 'Location 58', 'Location 212',\n",
       "       'Location 53', 'Location 337', 'Location 41', 'Location 632',\n",
       "       'Location 73', 'Location 214', 'Location 218', 'Location 38',\n",
       "       'Location 172', 'Location 197', 'Location 101', 'Location 185',\n",
       "       'Location 129', 'Location 235', 'Location 142', 'Location 50',\n",
       "       'Location 76', 'Location 11', 'Location 33', 'Location 22',\n",
       "       'Location 145', 'Location 203', 'Location 94', 'Location 573',\n",
       "       'Location 27', 'Location 186', 'Location 4', 'Location 70',\n",
       "       'Location 45', 'Location 262', 'Location 111', 'Location 84',\n",
       "       'Location 108', 'Location 7', 'Location 74', 'Location 450',\n",
       "       'Location 47', 'Location 37', 'Location 43', 'Location 286',\n",
       "       'Location 89', 'Location 24', 'Location 97', 'Location 144',\n",
       "       'Location 40', 'Location 128', 'Location 169', 'Location 399',\n",
       "       'Location 23', 'Location 191', 'Location 178', 'Location 510',\n",
       "       'Location 600', 'Location 188', 'Location 67', 'Location 49',\n",
       "       'Location 29', 'Location 222', 'Location 386', 'Location 88',\n",
       "       'Location 104', 'Location 405', 'Location 114', 'Location 259',\n",
       "       'Location 182', 'Location 12', 'Location 228', 'Location 149',\n",
       "       'Location 90', 'Location 109', 'Location 441', 'Location 421',\n",
       "       'Location 641', 'Location 195', 'Location 20', 'Location 161',\n",
       "       'Location 117', 'Location 200', 'Location 106', 'Location 31',\n",
       "       'Location 122', 'Location 541', 'Location 495', 'Location 193',\n",
       "       'Location 39', 'Location 9', 'Location 86', 'Location 107',\n",
       "       'Location 198', 'Location 318', 'Location 135', 'Location 177',\n",
       "       'Location 32', 'Location 591', 'Location 488', 'Location 418',\n",
       "       'Location 587', 'Location 454', 'Location 543', 'Location 489',\n",
       "       'Location 60', 'Location 52', 'Location 548', 'Location 15',\n",
       "       'Location 240', 'Location 658', 'Location 209', 'Location 151',\n",
       "       'Location 192', 'Location 364', 'Location 18', 'Location 503',\n",
       "       'Location 482', 'Location 460', 'Location 71', 'Location 69',\n",
       "       'Location 258', 'Location 204', 'Location 124', 'Location 168',\n",
       "       'Location 35', 'Location 296', 'Location 136', 'Location 28',\n",
       "       'Location 153', 'Location 99', 'Location 132', 'Location 427',\n",
       "       'Location 118', 'Location 127', 'Location 159', 'Location 154',\n",
       "       'Location 175', 'Location 120', 'Location 82', 'Location 152',\n",
       "       'Location 56', 'Location 282', 'Location 566', 'Location 365',\n",
       "       'Location 353', 'Location 66', 'Location 2', 'Location 323',\n",
       "       'Location 473', 'Location 206', 'Location 57', 'Location 68',\n",
       "       'Location 166', 'Location 1', 'Location 227', 'Location 79',\n",
       "       'Location 642', 'Location 105', 'Location 644', 'Location 547',\n",
       "       'Location 637', 'Location 59', 'Location 574', 'Location 529',\n",
       "       'Location 554', 'Location 275', 'Location 589', 'Location 160',\n",
       "       'Location 410', 'Location 146', 'Location 221', 'Location 265',\n",
       "       'Location 569', 'Location 157', 'Location 648', 'Location 165',\n",
       "       'Location 651', 'Location 266', 'Location 77', 'Location 158',\n",
       "       'Location 336', 'Location 72', 'Location 463', 'Location 253',\n",
       "       'Location 5', 'Location 431', 'Location 515', 'Location 226',\n",
       "       'Location 140', 'Location 110', 'Location 202', 'Location 634',\n",
       "       'Location 138', 'Location 217', 'Location 443', 'Location 627',\n",
       "       'Location 123', 'Location 528', 'Location 357', 'Location 187',\n",
       "       'Location 315', 'Location 112', 'Location 302', 'Location 194',\n",
       "       'Location 332', 'Location 208', 'Location 179', 'Location 199',\n",
       "       'Location 201', 'Location 174', 'Location 474', 'Location 184',\n",
       "       'Location 63', 'Location 512', 'Location 403', 'Location 436',\n",
       "       'Location 210', 'Location 468', 'Location 464', 'Location 98',\n",
       "       'Location 102', 'Location 325', 'Location 267', 'Location 173',\n",
       "       'Location 617', 'Location 141', 'Location 300', 'Location 216',\n",
       "       'Location 506', 'Location 647', 'Location 402', 'Location 239',\n",
       "       'Location 54', 'Location 137', 'Location 477', 'Location 586',\n",
       "       'Location 472', 'Location 374', 'Location 458', 'Location 180',\n",
       "       'Location 653', 'Location 16', 'Location 612', 'Location 505',\n",
       "       'Location 631', 'Location 299', 'Location 65', 'Location 342',\n",
       "       'Location 155', 'Location 511', 'Location 461', 'Location 244',\n",
       "       'Location 207', 'Location 597', 'Location 352', 'Location 533',\n",
       "       'Location 384', 'Location 80', 'Location 171', 'Location 143',\n",
       "       'Location 576', 'Location 139', 'Location 125', 'Location 181'],\n",
       "      dtype=object)"
      ]
     },
     "execution_count": 45,
     "metadata": {},
     "output_type": "execute_result"
    }
   ],
   "source": [
    "location_data.unique()"
   ]
  },
  {
   "cell_type": "code",
   "execution_count": 46,
   "metadata": {},
   "outputs": [
    {
     "data": {
      "text/plain": [
       "numpy.ndarray"
      ]
     },
     "execution_count": 46,
     "metadata": {},
     "output_type": "execute_result"
    }
   ],
   "source": [
    "type(location_data.unique())"
   ]
  },
  {
   "cell_type": "code",
   "execution_count": 47,
   "metadata": {},
   "outputs": [
    {
     "data": {
      "text/plain": [
       "<bound method Series.unique of 0        Location 3\n",
       "1        Location 6\n",
       "2        Location 8\n",
       "3       Location 26\n",
       "4       Location 34\n",
       "           ...     \n",
       "1038    Location 73\n",
       "1039    Location 82\n",
       "1040    Location 11\n",
       "1041    Location 26\n",
       "1042    Location 94\n",
       "Name: Location, Length: 1043, dtype: object>"
      ]
     },
     "execution_count": 47,
     "metadata": {},
     "output_type": "execute_result"
    }
   ],
   "source": [
    "location_data.unique"
   ]
  },
  {
   "cell_type": "code",
   "execution_count": 48,
   "metadata": {},
   "outputs": [
    {
     "data": {
      "text/plain": [
       "method"
      ]
     },
     "execution_count": 48,
     "metadata": {},
     "output_type": "execute_result"
    }
   ],
   "source": [
    "type(location_data.unique)"
   ]
  },
  {
   "cell_type": "markdown",
   "metadata": {},
   "source": [
    "## Using .sort_values()"
   ]
  },
  {
   "cell_type": "code",
   "execution_count": 49,
   "metadata": {},
   "outputs": [],
   "source": [
    "import pandas as pd"
   ]
  },
  {
   "cell_type": "code",
   "execution_count": 50,
   "metadata": {},
   "outputs": [
    {
     "data": {
      "text/plain": [
       "0      15\n",
       "1    1000\n",
       "2      23\n",
       "3      45\n",
       "4     444\n",
       "dtype: int64"
      ]
     },
     "execution_count": 50,
     "metadata": {},
     "output_type": "execute_result"
    }
   ],
   "source": [
    "numbers = pd.Series([15, 1000, 23, 45, 444])\n",
    "numbers"
   ]
  },
  {
   "cell_type": "code",
   "execution_count": 51,
   "metadata": {},
   "outputs": [
    {
     "data": {
      "text/plain": [
       "0      15\n",
       "2      23\n",
       "3      45\n",
       "4     444\n",
       "1    1000\n",
       "dtype: int64"
      ]
     },
     "execution_count": 51,
     "metadata": {},
     "output_type": "execute_result"
    }
   ],
   "source": [
    "numbers.sort_values()"
   ]
  },
  {
   "cell_type": "code",
   "execution_count": 52,
   "metadata": {},
   "outputs": [
    {
     "data": {
      "text/plain": [
       "0      15\n",
       "2      23\n",
       "3      45\n",
       "4     444\n",
       "1    1000\n",
       "dtype: int64"
      ]
     },
     "execution_count": 52,
     "metadata": {},
     "output_type": "execute_result"
    }
   ],
   "source": [
    "numbers.sort_values(ascending=True)"
   ]
  },
  {
   "cell_type": "code",
   "execution_count": 53,
   "metadata": {},
   "outputs": [
    {
     "data": {
      "text/plain": [
       "1    1000\n",
       "4     444\n",
       "3      45\n",
       "2      23\n",
       "0      15\n",
       "dtype: int64"
      ]
     },
     "execution_count": 53,
     "metadata": {},
     "output_type": "execute_result"
    }
   ],
   "source": [
    "numbers.sort_values(ascending=False)"
   ]
  },
  {
   "cell_type": "code",
   "execution_count": 54,
   "metadata": {},
   "outputs": [
    {
     "data": {
      "text/plain": [
       "0     Location 3\n",
       "1     Location 6\n",
       "2     Location 8\n",
       "3    Location 26\n",
       "4    Location 34\n",
       "Name: Location, dtype: object"
      ]
     },
     "execution_count": 54,
     "metadata": {},
     "output_type": "execute_result"
    }
   ],
   "source": [
    "data = pd.read_csv('Location.csv', squeeze = True)\n",
    "location_data = data.copy()\n",
    "location_data.head()"
   ]
  },
  {
   "cell_type": "code",
   "execution_count": 55,
   "metadata": {},
   "outputs": [
    {
     "data": {
      "text/plain": [
       "637     Location 1\n",
       "884     Location 1\n",
       "465     Location 1\n",
       "716    Location 10\n",
       "623    Location 10\n",
       "          ...     \n",
       "482    Location 97\n",
       "128    Location 97\n",
       "669    Location 97\n",
       "757    Location 98\n",
       "372    Location 99\n",
       "Name: Location, Length: 1043, dtype: object"
      ]
     },
     "execution_count": 55,
     "metadata": {},
     "output_type": "execute_result"
    }
   ],
   "source": [
    "location_data.sort_values()"
   ]
  },
  {
   "cell_type": "code",
   "execution_count": 56,
   "metadata": {},
   "outputs": [
    {
     "data": {
      "text/plain": [
       "637     Location 1\n",
       "884     Location 1\n",
       "465     Location 1\n",
       "716    Location 10\n",
       "623    Location 10\n",
       "          ...     \n",
       "482    Location 97\n",
       "128    Location 97\n",
       "669    Location 97\n",
       "757    Location 98\n",
       "372    Location 99\n",
       "Name: Location, Length: 1043, dtype: object"
      ]
     },
     "execution_count": 56,
     "metadata": {},
     "output_type": "execute_result"
    }
   ],
   "source": [
    "location_data.sort_values(ascending=True)"
   ]
  },
  {
   "cell_type": "code",
   "execution_count": 57,
   "metadata": {},
   "outputs": [
    {
     "data": {
      "text/plain": [
       "372    Location 99\n",
       "757    Location 98\n",
       "669    Location 97\n",
       "128    Location 97\n",
       "482    Location 97\n",
       "          ...     \n",
       "623    Location 10\n",
       "716    Location 10\n",
       "465     Location 1\n",
       "884     Location 1\n",
       "637     Location 1\n",
       "Name: Location, Length: 1043, dtype: object"
      ]
     },
     "execution_count": 57,
     "metadata": {},
     "output_type": "execute_result"
    }
   ],
   "source": [
    "location_data.sort_values(ascending=False)"
   ]
  },
  {
   "cell_type": "markdown",
   "metadata": {},
   "source": [
    "## Introduction to pandas DataFrames"
   ]
  },
  {
   "cell_type": "code",
   "execution_count": 1,
   "metadata": {},
   "outputs": [],
   "source": [
    "import pandas as pd\n",
    "import numpy as np"
   ]
  },
  {
   "cell_type": "code",
   "execution_count": 2,
   "metadata": {},
   "outputs": [
    {
     "data": {
      "text/plain": [
       "array([[3, 2, 1],\n",
       "       [6, 3, 2]])"
      ]
     },
     "execution_count": 2,
     "metadata": {},
     "output_type": "execute_result"
    }
   ],
   "source": [
    "array_a = np.array([[3, 2, 1], [6, 3, 2]])\n",
    "array_a"
   ]
  },
  {
   "cell_type": "code",
   "execution_count": 3,
   "metadata": {},
   "outputs": [
    {
     "data": {
      "text/html": [
       "<div>\n",
       "<style scoped>\n",
       "    .dataframe tbody tr th:only-of-type {\n",
       "        vertical-align: middle;\n",
       "    }\n",
       "\n",
       "    .dataframe tbody tr th {\n",
       "        vertical-align: top;\n",
       "    }\n",
       "\n",
       "    .dataframe thead th {\n",
       "        text-align: right;\n",
       "    }\n",
       "</style>\n",
       "<table border=\"1\" class=\"dataframe\">\n",
       "  <thead>\n",
       "    <tr style=\"text-align: right;\">\n",
       "      <th></th>\n",
       "      <th>0</th>\n",
       "      <th>1</th>\n",
       "      <th>2</th>\n",
       "    </tr>\n",
       "  </thead>\n",
       "  <tbody>\n",
       "    <tr>\n",
       "      <th>0</th>\n",
       "      <td>3</td>\n",
       "      <td>2</td>\n",
       "      <td>1</td>\n",
       "    </tr>\n",
       "    <tr>\n",
       "      <th>1</th>\n",
       "      <td>6</td>\n",
       "      <td>3</td>\n",
       "      <td>2</td>\n",
       "    </tr>\n",
       "  </tbody>\n",
       "</table>\n",
       "</div>"
      ],
      "text/plain": [
       "   0  1  2\n",
       "0  3  2  1\n",
       "1  6  3  2"
      ]
     },
     "execution_count": 3,
     "metadata": {},
     "output_type": "execute_result"
    }
   ],
   "source": [
    "pd.DataFrame(array_a)"
   ]
  },
  {
   "cell_type": "code",
   "execution_count": 4,
   "metadata": {},
   "outputs": [
    {
     "data": {
      "text/plain": [
       "pandas.core.frame.DataFrame"
      ]
     },
     "execution_count": 4,
     "metadata": {},
     "output_type": "execute_result"
    }
   ],
   "source": [
    "type(pd.DataFrame(array_a))"
   ]
  },
  {
   "cell_type": "code",
   "execution_count": 5,
   "metadata": {},
   "outputs": [
    {
     "data": {
      "text/html": [
       "<div>\n",
       "<style scoped>\n",
       "    .dataframe tbody tr th:only-of-type {\n",
       "        vertical-align: middle;\n",
       "    }\n",
       "\n",
       "    .dataframe tbody tr th {\n",
       "        vertical-align: top;\n",
       "    }\n",
       "\n",
       "    .dataframe thead th {\n",
       "        text-align: right;\n",
       "    }\n",
       "</style>\n",
       "<table border=\"1\" class=\"dataframe\">\n",
       "  <thead>\n",
       "    <tr style=\"text-align: right;\">\n",
       "      <th></th>\n",
       "      <th>Column 1</th>\n",
       "      <th>Column 2</th>\n",
       "      <th>Column 3</th>\n",
       "    </tr>\n",
       "  </thead>\n",
       "  <tbody>\n",
       "    <tr>\n",
       "      <th>0</th>\n",
       "      <td>3</td>\n",
       "      <td>2</td>\n",
       "      <td>1</td>\n",
       "    </tr>\n",
       "    <tr>\n",
       "      <th>1</th>\n",
       "      <td>6</td>\n",
       "      <td>3</td>\n",
       "      <td>2</td>\n",
       "    </tr>\n",
       "  </tbody>\n",
       "</table>\n",
       "</div>"
      ],
      "text/plain": [
       "   Column 1  Column 2  Column 3\n",
       "0         3         2         1\n",
       "1         6         3         2"
      ]
     },
     "execution_count": 5,
     "metadata": {},
     "output_type": "execute_result"
    }
   ],
   "source": [
    "df = pd.DataFrame(array_a, columns = ['Column 1', 'Column 2', 'Column 3'])\n",
    "df"
   ]
  },
  {
   "cell_type": "code",
   "execution_count": 6,
   "metadata": {},
   "outputs": [
    {
     "data": {
      "text/html": [
       "<div>\n",
       "<style scoped>\n",
       "    .dataframe tbody tr th:only-of-type {\n",
       "        vertical-align: middle;\n",
       "    }\n",
       "\n",
       "    .dataframe tbody tr th {\n",
       "        vertical-align: top;\n",
       "    }\n",
       "\n",
       "    .dataframe thead th {\n",
       "        text-align: right;\n",
       "    }\n",
       "</style>\n",
       "<table border=\"1\" class=\"dataframe\">\n",
       "  <thead>\n",
       "    <tr style=\"text-align: right;\">\n",
       "      <th></th>\n",
       "      <th>Column 1</th>\n",
       "      <th>Column 2</th>\n",
       "      <th>Column 3</th>\n",
       "    </tr>\n",
       "  </thead>\n",
       "  <tbody>\n",
       "    <tr>\n",
       "      <th>Row 1</th>\n",
       "      <td>3</td>\n",
       "      <td>2</td>\n",
       "      <td>1</td>\n",
       "    </tr>\n",
       "    <tr>\n",
       "      <th>Row 2</th>\n",
       "      <td>6</td>\n",
       "      <td>3</td>\n",
       "      <td>2</td>\n",
       "    </tr>\n",
       "  </tbody>\n",
       "</table>\n",
       "</div>"
      ],
      "text/plain": [
       "       Column 1  Column 2  Column 3\n",
       "Row 1         3         2         1\n",
       "Row 2         6         3         2"
      ]
     },
     "execution_count": 6,
     "metadata": {},
     "output_type": "execute_result"
    }
   ],
   "source": [
    "df = pd.DataFrame(array_a, columns = ['Column 1', 'Column 2', 'Column 3'], index = ['Row 1', 'Row 2'])\n",
    "df"
   ]
  },
  {
   "cell_type": "code",
   "execution_count": 7,
   "metadata": {},
   "outputs": [
    {
     "data": {
      "text/html": [
       "<div>\n",
       "<style scoped>\n",
       "    .dataframe tbody tr th:only-of-type {\n",
       "        vertical-align: middle;\n",
       "    }\n",
       "\n",
       "    .dataframe tbody tr th {\n",
       "        vertical-align: top;\n",
       "    }\n",
       "\n",
       "    .dataframe thead th {\n",
       "        text-align: right;\n",
       "    }\n",
       "</style>\n",
       "<table border=\"1\" class=\"dataframe\">\n",
       "  <thead>\n",
       "    <tr style=\"text-align: right;\">\n",
       "      <th></th>\n",
       "      <th>StringID</th>\n",
       "      <th>Product</th>\n",
       "      <th>CustomerGender</th>\n",
       "      <th>Location</th>\n",
       "      <th>Region</th>\n",
       "      <th>TotalPrice</th>\n",
       "      <th>StartDate</th>\n",
       "      <th>Deposit</th>\n",
       "      <th>DailyRate</th>\n",
       "      <th>TotalDaysYr</th>\n",
       "      <th>AmtPaid36</th>\n",
       "      <th>AmtPaid60</th>\n",
       "      <th>AmtPaid360</th>\n",
       "      <th>LoanStatus</th>\n",
       "    </tr>\n",
       "    <tr>\n",
       "      <th>LoanID</th>\n",
       "      <th></th>\n",
       "      <th></th>\n",
       "      <th></th>\n",
       "      <th></th>\n",
       "      <th></th>\n",
       "      <th></th>\n",
       "      <th></th>\n",
       "      <th></th>\n",
       "      <th></th>\n",
       "      <th></th>\n",
       "      <th></th>\n",
       "      <th></th>\n",
       "      <th></th>\n",
       "      <th></th>\n",
       "    </tr>\n",
       "  </thead>\n",
       "  <tbody>\n",
       "    <tr>\n",
       "      <th>1</th>\n",
       "      <td>LoanID_1</td>\n",
       "      <td>Product B</td>\n",
       "      <td>Female</td>\n",
       "      <td>Location 3</td>\n",
       "      <td>Region 2</td>\n",
       "      <td>17600.0</td>\n",
       "      <td>04/07/2018</td>\n",
       "      <td>2200</td>\n",
       "      <td>45</td>\n",
       "      <td>365</td>\n",
       "      <td>3221</td>\n",
       "      <td>4166</td>\n",
       "      <td>14621</td>\n",
       "      <td>Active</td>\n",
       "    </tr>\n",
       "    <tr>\n",
       "      <th>2</th>\n",
       "      <td>LoanID_2</td>\n",
       "      <td>Product D</td>\n",
       "      <td>Female</td>\n",
       "      <td>Location 6</td>\n",
       "      <td>Region 6</td>\n",
       "      <td>NaN</td>\n",
       "      <td>02/01/2019</td>\n",
       "      <td>2200</td>\n",
       "      <td>45</td>\n",
       "      <td>365</td>\n",
       "      <td>3161</td>\n",
       "      <td>4096</td>\n",
       "      <td>16041</td>\n",
       "      <td>Active</td>\n",
       "    </tr>\n",
       "    <tr>\n",
       "      <th>3</th>\n",
       "      <td>LoanID_3</td>\n",
       "      <td>Product B</td>\n",
       "      <td>Male</td>\n",
       "      <td>Location 8</td>\n",
       "      <td>Region 3</td>\n",
       "      <td>16600.0</td>\n",
       "      <td>08/12/2016</td>\n",
       "      <td>1000</td>\n",
       "      <td>45</td>\n",
       "      <td>365</td>\n",
       "      <td>2260</td>\n",
       "      <td>3205</td>\n",
       "      <td>16340</td>\n",
       "      <td>NaN</td>\n",
       "    </tr>\n",
       "    <tr>\n",
       "      <th>4</th>\n",
       "      <td>LoanID_4</td>\n",
       "      <td>Product A</td>\n",
       "      <td>Male</td>\n",
       "      <td>Location 26</td>\n",
       "      <td>Region 2</td>\n",
       "      <td>17600.0</td>\n",
       "      <td>NaN</td>\n",
       "      <td>2200</td>\n",
       "      <td>45</td>\n",
       "      <td>365</td>\n",
       "      <td>3141</td>\n",
       "      <td>4166</td>\n",
       "      <td>16321</td>\n",
       "      <td>Active</td>\n",
       "    </tr>\n",
       "    <tr>\n",
       "      <th>5</th>\n",
       "      <td>LoanID_5</td>\n",
       "      <td>Product B</td>\n",
       "      <td>Female</td>\n",
       "      <td>Location 34</td>\n",
       "      <td>Region 3</td>\n",
       "      <td>21250.0</td>\n",
       "      <td>28/10/2017</td>\n",
       "      <td>2200</td>\n",
       "      <td>55</td>\n",
       "      <td>365</td>\n",
       "      <td>3570</td>\n",
       "      <td>4745</td>\n",
       "      <td>14720</td>\n",
       "      <td>Active</td>\n",
       "    </tr>\n",
       "  </tbody>\n",
       "</table>\n",
       "</div>"
      ],
      "text/plain": [
       "        StringID    Product CustomerGender     Location    Region  TotalPrice  \\\n",
       "LoanID                                                                          \n",
       "1       LoanID_1  Product B         Female   Location 3  Region 2     17600.0   \n",
       "2       LoanID_2  Product D         Female   Location 6  Region 6         NaN   \n",
       "3       LoanID_3  Product B           Male   Location 8  Region 3     16600.0   \n",
       "4       LoanID_4  Product A           Male  Location 26  Region 2     17600.0   \n",
       "5       LoanID_5  Product B         Female  Location 34  Region 3     21250.0   \n",
       "\n",
       "         StartDate  Deposit  DailyRate  TotalDaysYr  AmtPaid36  AmtPaid60  \\\n",
       "LoanID                                                                      \n",
       "1       04/07/2018     2200         45          365       3221       4166   \n",
       "2       02/01/2019     2200         45          365       3161       4096   \n",
       "3       08/12/2016     1000         45          365       2260       3205   \n",
       "4              NaN     2200         45          365       3141       4166   \n",
       "5       28/10/2017     2200         55          365       3570       4745   \n",
       "\n",
       "        AmtPaid360 LoanStatus  \n",
       "LoanID                         \n",
       "1            14621     Active  \n",
       "2            16041     Active  \n",
       "3            16340        NaN  \n",
       "4            16321     Active  \n",
       "5            14720     Active  "
      ]
     },
     "execution_count": 7,
     "metadata": {},
     "output_type": "execute_result"
    }
   ],
   "source": [
    "data = pd.read_csv('Lending-company.csv', index_col = 'LoanID')\n",
    "lending_co_data = data.copy()\n",
    "lending_co_data.head()"
   ]
  },
  {
   "cell_type": "code",
   "execution_count": 8,
   "metadata": {},
   "outputs": [
    {
     "data": {
      "text/plain": [
       "pandas.core.frame.DataFrame"
      ]
     },
     "execution_count": 8,
     "metadata": {},
     "output_type": "execute_result"
    }
   ],
   "source": [
    "type(lending_co_data)"
   ]
  },
  {
   "cell_type": "markdown",
   "metadata": {},
   "source": [
    "## pandas DataFrames - Common Attributes "
   ]
  },
  {
   "cell_type": "code",
   "execution_count": 9,
   "metadata": {
    "scrolled": true
   },
   "outputs": [
    {
     "data": {
      "text/html": [
       "<div>\n",
       "<style scoped>\n",
       "    .dataframe tbody tr th:only-of-type {\n",
       "        vertical-align: middle;\n",
       "    }\n",
       "\n",
       "    .dataframe tbody tr th {\n",
       "        vertical-align: top;\n",
       "    }\n",
       "\n",
       "    .dataframe thead th {\n",
       "        text-align: right;\n",
       "    }\n",
       "</style>\n",
       "<table border=\"1\" class=\"dataframe\">\n",
       "  <thead>\n",
       "    <tr style=\"text-align: right;\">\n",
       "      <th></th>\n",
       "      <th>StringID</th>\n",
       "      <th>Product</th>\n",
       "      <th>CustomerGender</th>\n",
       "      <th>Location</th>\n",
       "      <th>Region</th>\n",
       "      <th>TotalPrice</th>\n",
       "      <th>StartDate</th>\n",
       "      <th>Deposit</th>\n",
       "      <th>DailyRate</th>\n",
       "      <th>TotalDaysYr</th>\n",
       "      <th>AmtPaid36</th>\n",
       "      <th>AmtPaid60</th>\n",
       "      <th>AmtPaid360</th>\n",
       "      <th>LoanStatus</th>\n",
       "    </tr>\n",
       "    <tr>\n",
       "      <th>LoanID</th>\n",
       "      <th></th>\n",
       "      <th></th>\n",
       "      <th></th>\n",
       "      <th></th>\n",
       "      <th></th>\n",
       "      <th></th>\n",
       "      <th></th>\n",
       "      <th></th>\n",
       "      <th></th>\n",
       "      <th></th>\n",
       "      <th></th>\n",
       "      <th></th>\n",
       "      <th></th>\n",
       "      <th></th>\n",
       "    </tr>\n",
       "  </thead>\n",
       "  <tbody>\n",
       "    <tr>\n",
       "      <th>1</th>\n",
       "      <td>LoanID_1</td>\n",
       "      <td>Product B</td>\n",
       "      <td>Female</td>\n",
       "      <td>Location 3</td>\n",
       "      <td>Region 2</td>\n",
       "      <td>17600.0</td>\n",
       "      <td>04/07/2018</td>\n",
       "      <td>2200</td>\n",
       "      <td>45</td>\n",
       "      <td>365</td>\n",
       "      <td>3221</td>\n",
       "      <td>4166</td>\n",
       "      <td>14621</td>\n",
       "      <td>Active</td>\n",
       "    </tr>\n",
       "    <tr>\n",
       "      <th>2</th>\n",
       "      <td>LoanID_2</td>\n",
       "      <td>Product D</td>\n",
       "      <td>Female</td>\n",
       "      <td>Location 6</td>\n",
       "      <td>Region 6</td>\n",
       "      <td>NaN</td>\n",
       "      <td>02/01/2019</td>\n",
       "      <td>2200</td>\n",
       "      <td>45</td>\n",
       "      <td>365</td>\n",
       "      <td>3161</td>\n",
       "      <td>4096</td>\n",
       "      <td>16041</td>\n",
       "      <td>Active</td>\n",
       "    </tr>\n",
       "    <tr>\n",
       "      <th>3</th>\n",
       "      <td>LoanID_3</td>\n",
       "      <td>Product B</td>\n",
       "      <td>Male</td>\n",
       "      <td>Location 8</td>\n",
       "      <td>Region 3</td>\n",
       "      <td>16600.0</td>\n",
       "      <td>08/12/2016</td>\n",
       "      <td>1000</td>\n",
       "      <td>45</td>\n",
       "      <td>365</td>\n",
       "      <td>2260</td>\n",
       "      <td>3205</td>\n",
       "      <td>16340</td>\n",
       "      <td>NaN</td>\n",
       "    </tr>\n",
       "    <tr>\n",
       "      <th>4</th>\n",
       "      <td>LoanID_4</td>\n",
       "      <td>Product A</td>\n",
       "      <td>Male</td>\n",
       "      <td>Location 26</td>\n",
       "      <td>Region 2</td>\n",
       "      <td>17600.0</td>\n",
       "      <td>NaN</td>\n",
       "      <td>2200</td>\n",
       "      <td>45</td>\n",
       "      <td>365</td>\n",
       "      <td>3141</td>\n",
       "      <td>4166</td>\n",
       "      <td>16321</td>\n",
       "      <td>Active</td>\n",
       "    </tr>\n",
       "    <tr>\n",
       "      <th>5</th>\n",
       "      <td>LoanID_5</td>\n",
       "      <td>Product B</td>\n",
       "      <td>Female</td>\n",
       "      <td>Location 34</td>\n",
       "      <td>Region 3</td>\n",
       "      <td>21250.0</td>\n",
       "      <td>28/10/2017</td>\n",
       "      <td>2200</td>\n",
       "      <td>55</td>\n",
       "      <td>365</td>\n",
       "      <td>3570</td>\n",
       "      <td>4745</td>\n",
       "      <td>14720</td>\n",
       "      <td>Active</td>\n",
       "    </tr>\n",
       "  </tbody>\n",
       "</table>\n",
       "</div>"
      ],
      "text/plain": [
       "        StringID    Product CustomerGender     Location    Region  TotalPrice  \\\n",
       "LoanID                                                                          \n",
       "1       LoanID_1  Product B         Female   Location 3  Region 2     17600.0   \n",
       "2       LoanID_2  Product D         Female   Location 6  Region 6         NaN   \n",
       "3       LoanID_3  Product B           Male   Location 8  Region 3     16600.0   \n",
       "4       LoanID_4  Product A           Male  Location 26  Region 2     17600.0   \n",
       "5       LoanID_5  Product B         Female  Location 34  Region 3     21250.0   \n",
       "\n",
       "         StartDate  Deposit  DailyRate  TotalDaysYr  AmtPaid36  AmtPaid60  \\\n",
       "LoanID                                                                      \n",
       "1       04/07/2018     2200         45          365       3221       4166   \n",
       "2       02/01/2019     2200         45          365       3161       4096   \n",
       "3       08/12/2016     1000         45          365       2260       3205   \n",
       "4              NaN     2200         45          365       3141       4166   \n",
       "5       28/10/2017     2200         55          365       3570       4745   \n",
       "\n",
       "        AmtPaid360 LoanStatus  \n",
       "LoanID                         \n",
       "1            14621     Active  \n",
       "2            16041     Active  \n",
       "3            16340        NaN  \n",
       "4            16321     Active  \n",
       "5            14720     Active  "
      ]
     },
     "execution_count": 9,
     "metadata": {},
     "output_type": "execute_result"
    }
   ],
   "source": [
    "data = pd.read_csv('Lending-company.csv', index_col = 'LoanID')\n",
    "lending_co_data = data.copy()\n",
    "lending_co_data.head()"
   ]
  },
  {
   "cell_type": "code",
   "execution_count": 10,
   "metadata": {},
   "outputs": [
    {
     "data": {
      "text/plain": [
       "Int64Index([   1,    2,    3,    4,    5,    6,    7,    8,    9,   10,\n",
       "            ...\n",
       "            1034, 1035, 1036, 1037, 1038, 1039, 1040, 1041, 1042, 1043],\n",
       "           dtype='int64', name='LoanID', length=1043)"
      ]
     },
     "execution_count": 10,
     "metadata": {},
     "output_type": "execute_result"
    }
   ],
   "source": [
    "lending_co_data.index"
   ]
  },
  {
   "cell_type": "code",
   "execution_count": 11,
   "metadata": {},
   "outputs": [
    {
     "data": {
      "text/plain": [
       "pandas.core.indexes.numeric.Int64Index"
      ]
     },
     "execution_count": 11,
     "metadata": {},
     "output_type": "execute_result"
    }
   ],
   "source": [
    "type(lending_co_data.index)"
   ]
  },
  {
   "cell_type": "code",
   "execution_count": 12,
   "metadata": {
    "scrolled": true
   },
   "outputs": [
    {
     "data": {
      "text/plain": [
       "Index(['StringID', 'Product', 'CustomerGender', 'Location', 'Region',\n",
       "       'TotalPrice', 'StartDate', 'Deposit', 'DailyRate', 'TotalDaysYr',\n",
       "       'AmtPaid36', 'AmtPaid60', 'AmtPaid360', 'LoanStatus'],\n",
       "      dtype='object')"
      ]
     },
     "execution_count": 12,
     "metadata": {},
     "output_type": "execute_result"
    }
   ],
   "source": [
    "lending_co_data.columns"
   ]
  },
  {
   "cell_type": "code",
   "execution_count": 13,
   "metadata": {},
   "outputs": [
    {
     "data": {
      "text/plain": [
       "pandas.core.indexes.base.Index"
      ]
     },
     "execution_count": 13,
     "metadata": {},
     "output_type": "execute_result"
    }
   ],
   "source": [
    "type(lending_co_data.columns)"
   ]
  },
  {
   "cell_type": "code",
   "execution_count": 14,
   "metadata": {},
   "outputs": [
    {
     "data": {
      "text/plain": [
       "[Int64Index([   1,    2,    3,    4,    5,    6,    7,    8,    9,   10,\n",
       "             ...\n",
       "             1034, 1035, 1036, 1037, 1038, 1039, 1040, 1041, 1042, 1043],\n",
       "            dtype='int64', name='LoanID', length=1043),\n",
       " Index(['StringID', 'Product', 'CustomerGender', 'Location', 'Region',\n",
       "        'TotalPrice', 'StartDate', 'Deposit', 'DailyRate', 'TotalDaysYr',\n",
       "        'AmtPaid36', 'AmtPaid60', 'AmtPaid360', 'LoanStatus'],\n",
       "       dtype='object')]"
      ]
     },
     "execution_count": 14,
     "metadata": {},
     "output_type": "execute_result"
    }
   ],
   "source": [
    "lending_co_data.axes"
   ]
  },
  {
   "cell_type": "code",
   "execution_count": 15,
   "metadata": {},
   "outputs": [
    {
     "data": {
      "text/plain": [
       "StringID           object\n",
       "Product            object\n",
       "CustomerGender     object\n",
       "Location           object\n",
       "Region             object\n",
       "TotalPrice        float64\n",
       "StartDate          object\n",
       "Deposit             int64\n",
       "DailyRate           int64\n",
       "TotalDaysYr         int64\n",
       "AmtPaid36           int64\n",
       "AmtPaid60           int64\n",
       "AmtPaid360          int64\n",
       "LoanStatus         object\n",
       "dtype: object"
      ]
     },
     "execution_count": 15,
     "metadata": {},
     "output_type": "execute_result"
    }
   ],
   "source": [
    "lending_co_data.dtypes"
   ]
  },
  {
   "cell_type": "code",
   "execution_count": 16,
   "metadata": {},
   "outputs": [
    {
     "data": {
      "text/plain": [
       "array([['LoanID_1', 'Product B', 'Female', ..., 4166, 14621, 'Active'],\n",
       "       ['LoanID_2', 'Product D', 'Female', ..., 4096, 16041, 'Active'],\n",
       "       ['LoanID_3', 'Product B', 'Male', ..., 3205, 16340, nan],\n",
       "       ...,\n",
       "       ['LoanID_1041', 'Product A', 'NotSpecified', ..., 5143, 16617,\n",
       "        'Finished Payment'],\n",
       "       ['LoanID_1042', 'Product B', 'Female', ..., 3462, 15617,\n",
       "        'Finished Payment'],\n",
       "       ['LoanID_1043', 'Product A', 'NotSpecified', ..., 4743, 16617,\n",
       "        'Finished Payment']], dtype=object)"
      ]
     },
     "execution_count": 16,
     "metadata": {},
     "output_type": "execute_result"
    }
   ],
   "source": [
    "lending_co_data.values"
   ]
  },
  {
   "cell_type": "code",
   "execution_count": 17,
   "metadata": {},
   "outputs": [
    {
     "data": {
      "text/plain": [
       "numpy.ndarray"
      ]
     },
     "execution_count": 17,
     "metadata": {},
     "output_type": "execute_result"
    }
   ],
   "source": [
    "type(lending_co_data.values)"
   ]
  },
  {
   "cell_type": "code",
   "execution_count": 18,
   "metadata": {},
   "outputs": [
    {
     "data": {
      "text/plain": [
       "array([['LoanID_1', 'Product B', 'Female', ..., 4166, 14621, 'Active'],\n",
       "       ['LoanID_2', 'Product D', 'Female', ..., 4096, 16041, 'Active'],\n",
       "       ['LoanID_3', 'Product B', 'Male', ..., 3205, 16340, nan],\n",
       "       ...,\n",
       "       ['LoanID_1041', 'Product A', 'NotSpecified', ..., 5143, 16617,\n",
       "        'Finished Payment'],\n",
       "       ['LoanID_1042', 'Product B', 'Female', ..., 3462, 15617,\n",
       "        'Finished Payment'],\n",
       "       ['LoanID_1043', 'Product A', 'NotSpecified', ..., 4743, 16617,\n",
       "        'Finished Payment']], dtype=object)"
      ]
     },
     "execution_count": 18,
     "metadata": {},
     "output_type": "execute_result"
    }
   ],
   "source": [
    "lending_co_data.to_numpy()"
   ]
  },
  {
   "cell_type": "code",
   "execution_count": 19,
   "metadata": {},
   "outputs": [
    {
     "data": {
      "text/plain": [
       "numpy.ndarray"
      ]
     },
     "execution_count": 19,
     "metadata": {},
     "output_type": "execute_result"
    }
   ],
   "source": [
    "type(lending_co_data.to_numpy())"
   ]
  },
  {
   "cell_type": "code",
   "execution_count": 20,
   "metadata": {},
   "outputs": [
    {
     "data": {
      "text/plain": [
       "(1043, 14)"
      ]
     },
     "execution_count": 20,
     "metadata": {},
     "output_type": "execute_result"
    }
   ],
   "source": [
    "lending_co_data.shape"
   ]
  },
  {
   "cell_type": "code",
   "execution_count": 21,
   "metadata": {},
   "outputs": [
    {
     "data": {
      "text/plain": [
       "14"
      ]
     },
     "execution_count": 21,
     "metadata": {},
     "output_type": "execute_result"
    }
   ],
   "source": [
    "len(lending_co_data.columns)"
   ]
  },
  {
   "cell_type": "markdown",
   "metadata": {},
   "source": [
    "## Data Selection in pandas DataFrames"
   ]
  },
  {
   "cell_type": "code",
   "execution_count": 22,
   "metadata": {},
   "outputs": [],
   "source": [
    "import pandas as pd"
   ]
  },
  {
   "cell_type": "code",
   "execution_count": 23,
   "metadata": {},
   "outputs": [
    {
     "data": {
      "text/html": [
       "<div>\n",
       "<style scoped>\n",
       "    .dataframe tbody tr th:only-of-type {\n",
       "        vertical-align: middle;\n",
       "    }\n",
       "\n",
       "    .dataframe tbody tr th {\n",
       "        vertical-align: top;\n",
       "    }\n",
       "\n",
       "    .dataframe thead th {\n",
       "        text-align: right;\n",
       "    }\n",
       "</style>\n",
       "<table border=\"1\" class=\"dataframe\">\n",
       "  <thead>\n",
       "    <tr style=\"text-align: right;\">\n",
       "      <th></th>\n",
       "      <th>LoanID</th>\n",
       "      <th>Product</th>\n",
       "      <th>CustomerGender</th>\n",
       "      <th>Location</th>\n",
       "      <th>Region</th>\n",
       "      <th>TotalPrice</th>\n",
       "      <th>StartDate</th>\n",
       "      <th>Deposit</th>\n",
       "      <th>DailyRate</th>\n",
       "      <th>TotalDaysYr</th>\n",
       "      <th>AmtPaid36</th>\n",
       "      <th>AmtPaid60</th>\n",
       "      <th>AmtPaid360</th>\n",
       "      <th>LoanStatus</th>\n",
       "    </tr>\n",
       "    <tr>\n",
       "      <th>StringID</th>\n",
       "      <th></th>\n",
       "      <th></th>\n",
       "      <th></th>\n",
       "      <th></th>\n",
       "      <th></th>\n",
       "      <th></th>\n",
       "      <th></th>\n",
       "      <th></th>\n",
       "      <th></th>\n",
       "      <th></th>\n",
       "      <th></th>\n",
       "      <th></th>\n",
       "      <th></th>\n",
       "      <th></th>\n",
       "    </tr>\n",
       "  </thead>\n",
       "  <tbody>\n",
       "    <tr>\n",
       "      <th>LoanID_1</th>\n",
       "      <td>1</td>\n",
       "      <td>Product B</td>\n",
       "      <td>Female</td>\n",
       "      <td>Location 3</td>\n",
       "      <td>Region 2</td>\n",
       "      <td>17600.0</td>\n",
       "      <td>04/07/2018</td>\n",
       "      <td>2200</td>\n",
       "      <td>45</td>\n",
       "      <td>365</td>\n",
       "      <td>3221</td>\n",
       "      <td>4166</td>\n",
       "      <td>14621</td>\n",
       "      <td>Active</td>\n",
       "    </tr>\n",
       "    <tr>\n",
       "      <th>LoanID_2</th>\n",
       "      <td>2</td>\n",
       "      <td>Product D</td>\n",
       "      <td>Female</td>\n",
       "      <td>Location 6</td>\n",
       "      <td>Region 6</td>\n",
       "      <td>NaN</td>\n",
       "      <td>02/01/2019</td>\n",
       "      <td>2200</td>\n",
       "      <td>45</td>\n",
       "      <td>365</td>\n",
       "      <td>3161</td>\n",
       "      <td>4096</td>\n",
       "      <td>16041</td>\n",
       "      <td>Active</td>\n",
       "    </tr>\n",
       "    <tr>\n",
       "      <th>LoanID_3</th>\n",
       "      <td>3</td>\n",
       "      <td>Product B</td>\n",
       "      <td>Male</td>\n",
       "      <td>Location 8</td>\n",
       "      <td>Region 3</td>\n",
       "      <td>16600.0</td>\n",
       "      <td>08/12/2016</td>\n",
       "      <td>1000</td>\n",
       "      <td>45</td>\n",
       "      <td>365</td>\n",
       "      <td>2260</td>\n",
       "      <td>3205</td>\n",
       "      <td>16340</td>\n",
       "      <td>NaN</td>\n",
       "    </tr>\n",
       "    <tr>\n",
       "      <th>LoanID_4</th>\n",
       "      <td>4</td>\n",
       "      <td>Product A</td>\n",
       "      <td>Male</td>\n",
       "      <td>Location 26</td>\n",
       "      <td>Region 2</td>\n",
       "      <td>17600.0</td>\n",
       "      <td>NaN</td>\n",
       "      <td>2200</td>\n",
       "      <td>45</td>\n",
       "      <td>365</td>\n",
       "      <td>3141</td>\n",
       "      <td>4166</td>\n",
       "      <td>16321</td>\n",
       "      <td>Active</td>\n",
       "    </tr>\n",
       "    <tr>\n",
       "      <th>LoanID_5</th>\n",
       "      <td>5</td>\n",
       "      <td>Product B</td>\n",
       "      <td>Female</td>\n",
       "      <td>Location 34</td>\n",
       "      <td>Region 3</td>\n",
       "      <td>21250.0</td>\n",
       "      <td>28/10/2017</td>\n",
       "      <td>2200</td>\n",
       "      <td>55</td>\n",
       "      <td>365</td>\n",
       "      <td>3570</td>\n",
       "      <td>4745</td>\n",
       "      <td>14720</td>\n",
       "      <td>Active</td>\n",
       "    </tr>\n",
       "  </tbody>\n",
       "</table>\n",
       "</div>"
      ],
      "text/plain": [
       "          LoanID    Product CustomerGender     Location    Region  TotalPrice  \\\n",
       "StringID                                                                        \n",
       "LoanID_1       1  Product B         Female   Location 3  Region 2     17600.0   \n",
       "LoanID_2       2  Product D         Female   Location 6  Region 6         NaN   \n",
       "LoanID_3       3  Product B           Male   Location 8  Region 3     16600.0   \n",
       "LoanID_4       4  Product A           Male  Location 26  Region 2     17600.0   \n",
       "LoanID_5       5  Product B         Female  Location 34  Region 3     21250.0   \n",
       "\n",
       "           StartDate  Deposit  DailyRate  TotalDaysYr  AmtPaid36  AmtPaid60  \\\n",
       "StringID                                                                      \n",
       "LoanID_1  04/07/2018     2200         45          365       3221       4166   \n",
       "LoanID_2  02/01/2019     2200         45          365       3161       4096   \n",
       "LoanID_3  08/12/2016     1000         45          365       2260       3205   \n",
       "LoanID_4         NaN     2200         45          365       3141       4166   \n",
       "LoanID_5  28/10/2017     2200         55          365       3570       4745   \n",
       "\n",
       "          AmtPaid360 LoanStatus  \n",
       "StringID                         \n",
       "LoanID_1       14621     Active  \n",
       "LoanID_2       16041     Active  \n",
       "LoanID_3       16340        NaN  \n",
       "LoanID_4       16321     Active  \n",
       "LoanID_5       14720     Active  "
      ]
     },
     "execution_count": 23,
     "metadata": {},
     "output_type": "execute_result"
    }
   ],
   "source": [
    "data = pd.read_csv('Lending-company.csv', index_col = 'StringID')\n",
    "lending_co_data = data.copy()\n",
    "lending_co_data.head()"
   ]
  },
  {
   "cell_type": "code",
   "execution_count": 24,
   "metadata": {},
   "outputs": [
    {
     "data": {
      "text/plain": [
       "StringID\n",
       "LoanID_1       Product B\n",
       "LoanID_2       Product D\n",
       "LoanID_3       Product B\n",
       "LoanID_4       Product A\n",
       "LoanID_5       Product B\n",
       "                 ...    \n",
       "LoanID_1039    Product B\n",
       "LoanID_1040    Product A\n",
       "LoanID_1041    Product A\n",
       "LoanID_1042    Product B\n",
       "LoanID_1043    Product A\n",
       "Name: Product, Length: 1043, dtype: object"
      ]
     },
     "execution_count": 24,
     "metadata": {},
     "output_type": "execute_result"
    }
   ],
   "source": [
    "lending_co_data.Product"
   ]
  },
  {
   "cell_type": "code",
   "execution_count": 25,
   "metadata": {},
   "outputs": [
    {
     "data": {
      "text/plain": [
       "StringID\n",
       "LoanID_1        Location 3\n",
       "LoanID_2        Location 6\n",
       "LoanID_3        Location 8\n",
       "LoanID_4       Location 26\n",
       "LoanID_5       Location 34\n",
       "                  ...     \n",
       "LoanID_1039    Location 73\n",
       "LoanID_1040    Location 82\n",
       "LoanID_1041    Location 11\n",
       "LoanID_1042    Location 26\n",
       "LoanID_1043    Location 94\n",
       "Name: Location, Length: 1043, dtype: object"
      ]
     },
     "execution_count": 25,
     "metadata": {},
     "output_type": "execute_result"
    }
   ],
   "source": [
    "lending_co_data.Location"
   ]
  },
  {
   "cell_type": "code",
   "execution_count": 26,
   "metadata": {},
   "outputs": [
    {
     "data": {
      "text/plain": [
       "StringID\n",
       "LoanID_1       Product B\n",
       "LoanID_2       Product D\n",
       "LoanID_3       Product B\n",
       "LoanID_4       Product A\n",
       "LoanID_5       Product B\n",
       "                 ...    \n",
       "LoanID_1039    Product B\n",
       "LoanID_1040    Product A\n",
       "LoanID_1041    Product A\n",
       "LoanID_1042    Product B\n",
       "LoanID_1043    Product A\n",
       "Name: Product, Length: 1043, dtype: object"
      ]
     },
     "execution_count": 26,
     "metadata": {},
     "output_type": "execute_result"
    }
   ],
   "source": [
    "lending_co_data['Product']"
   ]
  },
  {
   "cell_type": "code",
   "execution_count": 27,
   "metadata": {},
   "outputs": [
    {
     "data": {
      "text/plain": [
       "StringID\n",
       "LoanID_1        Location 3\n",
       "LoanID_2        Location 6\n",
       "LoanID_3        Location 8\n",
       "LoanID_4       Location 26\n",
       "LoanID_5       Location 34\n",
       "                  ...     \n",
       "LoanID_1039    Location 73\n",
       "LoanID_1040    Location 82\n",
       "LoanID_1041    Location 11\n",
       "LoanID_1042    Location 26\n",
       "LoanID_1043    Location 94\n",
       "Name: Location, Length: 1043, dtype: object"
      ]
     },
     "execution_count": 27,
     "metadata": {},
     "output_type": "execute_result"
    }
   ],
   "source": [
    "lending_co_data['Location']"
   ]
  },
  {
   "cell_type": "code",
   "execution_count": 28,
   "metadata": {},
   "outputs": [
    {
     "ename": "KeyError",
     "evalue": "'location'",
     "output_type": "error",
     "traceback": [
      "\u001b[1;31m---------------------------------------------------------------------------\u001b[0m",
      "\u001b[1;31mKeyError\u001b[0m                                  Traceback (most recent call last)",
      "\u001b[1;32m~\\anaconda3\\lib\\site-packages\\pandas\\core\\indexes\\base.py\u001b[0m in \u001b[0;36mget_loc\u001b[1;34m(self, key, method, tolerance)\u001b[0m\n\u001b[0;32m   2645\u001b[0m             \u001b[1;32mtry\u001b[0m\u001b[1;33m:\u001b[0m\u001b[1;33m\u001b[0m\u001b[1;33m\u001b[0m\u001b[0m\n\u001b[1;32m-> 2646\u001b[1;33m                 \u001b[1;32mreturn\u001b[0m \u001b[0mself\u001b[0m\u001b[1;33m.\u001b[0m\u001b[0m_engine\u001b[0m\u001b[1;33m.\u001b[0m\u001b[0mget_loc\u001b[0m\u001b[1;33m(\u001b[0m\u001b[0mkey\u001b[0m\u001b[1;33m)\u001b[0m\u001b[1;33m\u001b[0m\u001b[1;33m\u001b[0m\u001b[0m\n\u001b[0m\u001b[0;32m   2647\u001b[0m             \u001b[1;32mexcept\u001b[0m \u001b[0mKeyError\u001b[0m\u001b[1;33m:\u001b[0m\u001b[1;33m\u001b[0m\u001b[1;33m\u001b[0m\u001b[0m\n",
      "\u001b[1;32mpandas\\_libs\\index.pyx\u001b[0m in \u001b[0;36mpandas._libs.index.IndexEngine.get_loc\u001b[1;34m()\u001b[0m\n",
      "\u001b[1;32mpandas\\_libs\\index.pyx\u001b[0m in \u001b[0;36mpandas._libs.index.IndexEngine.get_loc\u001b[1;34m()\u001b[0m\n",
      "\u001b[1;32mpandas\\_libs\\hashtable_class_helper.pxi\u001b[0m in \u001b[0;36mpandas._libs.hashtable.PyObjectHashTable.get_item\u001b[1;34m()\u001b[0m\n",
      "\u001b[1;32mpandas\\_libs\\hashtable_class_helper.pxi\u001b[0m in \u001b[0;36mpandas._libs.hashtable.PyObjectHashTable.get_item\u001b[1;34m()\u001b[0m\n",
      "\u001b[1;31mKeyError\u001b[0m: 'location'",
      "\nDuring handling of the above exception, another exception occurred:\n",
      "\u001b[1;31mKeyError\u001b[0m                                  Traceback (most recent call last)",
      "\u001b[1;32m<ipython-input-28-46acfdcaadc4>\u001b[0m in \u001b[0;36m<module>\u001b[1;34m\u001b[0m\n\u001b[1;32m----> 1\u001b[1;33m \u001b[0mlending_co_data\u001b[0m\u001b[1;33m[\u001b[0m\u001b[1;34m'location'\u001b[0m\u001b[1;33m]\u001b[0m\u001b[1;33m\u001b[0m\u001b[1;33m\u001b[0m\u001b[0m\n\u001b[0m",
      "\u001b[1;32m~\\anaconda3\\lib\\site-packages\\pandas\\core\\frame.py\u001b[0m in \u001b[0;36m__getitem__\u001b[1;34m(self, key)\u001b[0m\n\u001b[0;32m   2798\u001b[0m             \u001b[1;32mif\u001b[0m \u001b[0mself\u001b[0m\u001b[1;33m.\u001b[0m\u001b[0mcolumns\u001b[0m\u001b[1;33m.\u001b[0m\u001b[0mnlevels\u001b[0m \u001b[1;33m>\u001b[0m \u001b[1;36m1\u001b[0m\u001b[1;33m:\u001b[0m\u001b[1;33m\u001b[0m\u001b[1;33m\u001b[0m\u001b[0m\n\u001b[0;32m   2799\u001b[0m                 \u001b[1;32mreturn\u001b[0m \u001b[0mself\u001b[0m\u001b[1;33m.\u001b[0m\u001b[0m_getitem_multilevel\u001b[0m\u001b[1;33m(\u001b[0m\u001b[0mkey\u001b[0m\u001b[1;33m)\u001b[0m\u001b[1;33m\u001b[0m\u001b[1;33m\u001b[0m\u001b[0m\n\u001b[1;32m-> 2800\u001b[1;33m             \u001b[0mindexer\u001b[0m \u001b[1;33m=\u001b[0m \u001b[0mself\u001b[0m\u001b[1;33m.\u001b[0m\u001b[0mcolumns\u001b[0m\u001b[1;33m.\u001b[0m\u001b[0mget_loc\u001b[0m\u001b[1;33m(\u001b[0m\u001b[0mkey\u001b[0m\u001b[1;33m)\u001b[0m\u001b[1;33m\u001b[0m\u001b[1;33m\u001b[0m\u001b[0m\n\u001b[0m\u001b[0;32m   2801\u001b[0m             \u001b[1;32mif\u001b[0m \u001b[0mis_integer\u001b[0m\u001b[1;33m(\u001b[0m\u001b[0mindexer\u001b[0m\u001b[1;33m)\u001b[0m\u001b[1;33m:\u001b[0m\u001b[1;33m\u001b[0m\u001b[1;33m\u001b[0m\u001b[0m\n\u001b[0;32m   2802\u001b[0m                 \u001b[0mindexer\u001b[0m \u001b[1;33m=\u001b[0m \u001b[1;33m[\u001b[0m\u001b[0mindexer\u001b[0m\u001b[1;33m]\u001b[0m\u001b[1;33m\u001b[0m\u001b[1;33m\u001b[0m\u001b[0m\n",
      "\u001b[1;32m~\\anaconda3\\lib\\site-packages\\pandas\\core\\indexes\\base.py\u001b[0m in \u001b[0;36mget_loc\u001b[1;34m(self, key, method, tolerance)\u001b[0m\n\u001b[0;32m   2646\u001b[0m                 \u001b[1;32mreturn\u001b[0m \u001b[0mself\u001b[0m\u001b[1;33m.\u001b[0m\u001b[0m_engine\u001b[0m\u001b[1;33m.\u001b[0m\u001b[0mget_loc\u001b[0m\u001b[1;33m(\u001b[0m\u001b[0mkey\u001b[0m\u001b[1;33m)\u001b[0m\u001b[1;33m\u001b[0m\u001b[1;33m\u001b[0m\u001b[0m\n\u001b[0;32m   2647\u001b[0m             \u001b[1;32mexcept\u001b[0m \u001b[0mKeyError\u001b[0m\u001b[1;33m:\u001b[0m\u001b[1;33m\u001b[0m\u001b[1;33m\u001b[0m\u001b[0m\n\u001b[1;32m-> 2648\u001b[1;33m                 \u001b[1;32mreturn\u001b[0m \u001b[0mself\u001b[0m\u001b[1;33m.\u001b[0m\u001b[0m_engine\u001b[0m\u001b[1;33m.\u001b[0m\u001b[0mget_loc\u001b[0m\u001b[1;33m(\u001b[0m\u001b[0mself\u001b[0m\u001b[1;33m.\u001b[0m\u001b[0m_maybe_cast_indexer\u001b[0m\u001b[1;33m(\u001b[0m\u001b[0mkey\u001b[0m\u001b[1;33m)\u001b[0m\u001b[1;33m)\u001b[0m\u001b[1;33m\u001b[0m\u001b[1;33m\u001b[0m\u001b[0m\n\u001b[0m\u001b[0;32m   2649\u001b[0m         \u001b[0mindexer\u001b[0m \u001b[1;33m=\u001b[0m \u001b[0mself\u001b[0m\u001b[1;33m.\u001b[0m\u001b[0mget_indexer\u001b[0m\u001b[1;33m(\u001b[0m\u001b[1;33m[\u001b[0m\u001b[0mkey\u001b[0m\u001b[1;33m]\u001b[0m\u001b[1;33m,\u001b[0m \u001b[0mmethod\u001b[0m\u001b[1;33m=\u001b[0m\u001b[0mmethod\u001b[0m\u001b[1;33m,\u001b[0m \u001b[0mtolerance\u001b[0m\u001b[1;33m=\u001b[0m\u001b[0mtolerance\u001b[0m\u001b[1;33m)\u001b[0m\u001b[1;33m\u001b[0m\u001b[1;33m\u001b[0m\u001b[0m\n\u001b[0;32m   2650\u001b[0m         \u001b[1;32mif\u001b[0m \u001b[0mindexer\u001b[0m\u001b[1;33m.\u001b[0m\u001b[0mndim\u001b[0m \u001b[1;33m>\u001b[0m \u001b[1;36m1\u001b[0m \u001b[1;32mor\u001b[0m \u001b[0mindexer\u001b[0m\u001b[1;33m.\u001b[0m\u001b[0msize\u001b[0m \u001b[1;33m>\u001b[0m \u001b[1;36m1\u001b[0m\u001b[1;33m:\u001b[0m\u001b[1;33m\u001b[0m\u001b[1;33m\u001b[0m\u001b[0m\n",
      "\u001b[1;32mpandas\\_libs\\index.pyx\u001b[0m in \u001b[0;36mpandas._libs.index.IndexEngine.get_loc\u001b[1;34m()\u001b[0m\n",
      "\u001b[1;32mpandas\\_libs\\index.pyx\u001b[0m in \u001b[0;36mpandas._libs.index.IndexEngine.get_loc\u001b[1;34m()\u001b[0m\n",
      "\u001b[1;32mpandas\\_libs\\hashtable_class_helper.pxi\u001b[0m in \u001b[0;36mpandas._libs.hashtable.PyObjectHashTable.get_item\u001b[1;34m()\u001b[0m\n",
      "\u001b[1;32mpandas\\_libs\\hashtable_class_helper.pxi\u001b[0m in \u001b[0;36mpandas._libs.hashtable.PyObjectHashTable.get_item\u001b[1;34m()\u001b[0m\n",
      "\u001b[1;31mKeyError\u001b[0m: 'location'"
     ]
    }
   ],
   "source": [
    "lending_co_data['location']"
   ]
  },
  {
   "cell_type": "code",
   "execution_count": 54,
   "metadata": {},
   "outputs": [
    {
     "data": {
      "text/plain": [
       "pandas.core.series.Series"
      ]
     },
     "execution_count": 54,
     "metadata": {},
     "output_type": "execute_result"
    }
   ],
   "source": [
    "type(lending_co_data['Location'])"
   ]
  },
  {
   "cell_type": "code",
   "execution_count": 55,
   "metadata": {
    "scrolled": false
   },
   "outputs": [
    {
     "data": {
      "text/html": [
       "<div>\n",
       "<style scoped>\n",
       "    .dataframe tbody tr th:only-of-type {\n",
       "        vertical-align: middle;\n",
       "    }\n",
       "\n",
       "    .dataframe tbody tr th {\n",
       "        vertical-align: top;\n",
       "    }\n",
       "\n",
       "    .dataframe thead th {\n",
       "        text-align: right;\n",
       "    }\n",
       "</style>\n",
       "<table border=\"1\" class=\"dataframe\">\n",
       "  <thead>\n",
       "    <tr style=\"text-align: right;\">\n",
       "      <th></th>\n",
       "      <th>Location</th>\n",
       "    </tr>\n",
       "    <tr>\n",
       "      <th>StringID</th>\n",
       "      <th></th>\n",
       "    </tr>\n",
       "  </thead>\n",
       "  <tbody>\n",
       "    <tr>\n",
       "      <th>LoanID_1</th>\n",
       "      <td>Location 3</td>\n",
       "    </tr>\n",
       "    <tr>\n",
       "      <th>LoanID_2</th>\n",
       "      <td>Location 6</td>\n",
       "    </tr>\n",
       "    <tr>\n",
       "      <th>LoanID_3</th>\n",
       "      <td>Location 8</td>\n",
       "    </tr>\n",
       "    <tr>\n",
       "      <th>LoanID_4</th>\n",
       "      <td>Location 26</td>\n",
       "    </tr>\n",
       "    <tr>\n",
       "      <th>LoanID_5</th>\n",
       "      <td>Location 34</td>\n",
       "    </tr>\n",
       "    <tr>\n",
       "      <th>...</th>\n",
       "      <td>...</td>\n",
       "    </tr>\n",
       "    <tr>\n",
       "      <th>LoanID_1039</th>\n",
       "      <td>Location 73</td>\n",
       "    </tr>\n",
       "    <tr>\n",
       "      <th>LoanID_1040</th>\n",
       "      <td>Location 82</td>\n",
       "    </tr>\n",
       "    <tr>\n",
       "      <th>LoanID_1041</th>\n",
       "      <td>Location 11</td>\n",
       "    </tr>\n",
       "    <tr>\n",
       "      <th>LoanID_1042</th>\n",
       "      <td>Location 26</td>\n",
       "    </tr>\n",
       "    <tr>\n",
       "      <th>LoanID_1043</th>\n",
       "      <td>Location 94</td>\n",
       "    </tr>\n",
       "  </tbody>\n",
       "</table>\n",
       "<p>1043 rows × 1 columns</p>\n",
       "</div>"
      ],
      "text/plain": [
       "                Location\n",
       "StringID                \n",
       "LoanID_1      Location 3\n",
       "LoanID_2      Location 6\n",
       "LoanID_3      Location 8\n",
       "LoanID_4     Location 26\n",
       "LoanID_5     Location 34\n",
       "...                  ...\n",
       "LoanID_1039  Location 73\n",
       "LoanID_1040  Location 82\n",
       "LoanID_1041  Location 11\n",
       "LoanID_1042  Location 26\n",
       "LoanID_1043  Location 94\n",
       "\n",
       "[1043 rows x 1 columns]"
      ]
     },
     "execution_count": 55,
     "metadata": {},
     "output_type": "execute_result"
    }
   ],
   "source": [
    "lending_co_data[['Location']]"
   ]
  },
  {
   "cell_type": "code",
   "execution_count": 56,
   "metadata": {},
   "outputs": [
    {
     "data": {
      "text/plain": [
       "pandas.core.frame.DataFrame"
      ]
     },
     "execution_count": 56,
     "metadata": {},
     "output_type": "execute_result"
    }
   ],
   "source": [
    "type(lending_co_data[['Location']])"
   ]
  },
  {
   "cell_type": "code",
   "execution_count": 57,
   "metadata": {},
   "outputs": [
    {
     "data": {
      "text/html": [
       "<div>\n",
       "<style scoped>\n",
       "    .dataframe tbody tr th:only-of-type {\n",
       "        vertical-align: middle;\n",
       "    }\n",
       "\n",
       "    .dataframe tbody tr th {\n",
       "        vertical-align: top;\n",
       "    }\n",
       "\n",
       "    .dataframe thead th {\n",
       "        text-align: right;\n",
       "    }\n",
       "</style>\n",
       "<table border=\"1\" class=\"dataframe\">\n",
       "  <thead>\n",
       "    <tr style=\"text-align: right;\">\n",
       "      <th></th>\n",
       "      <th>Location</th>\n",
       "      <th>Product</th>\n",
       "    </tr>\n",
       "    <tr>\n",
       "      <th>StringID</th>\n",
       "      <th></th>\n",
       "      <th></th>\n",
       "    </tr>\n",
       "  </thead>\n",
       "  <tbody>\n",
       "    <tr>\n",
       "      <th>LoanID_1</th>\n",
       "      <td>Location 3</td>\n",
       "      <td>Product B</td>\n",
       "    </tr>\n",
       "    <tr>\n",
       "      <th>LoanID_2</th>\n",
       "      <td>Location 6</td>\n",
       "      <td>Product D</td>\n",
       "    </tr>\n",
       "    <tr>\n",
       "      <th>LoanID_3</th>\n",
       "      <td>Location 8</td>\n",
       "      <td>Product B</td>\n",
       "    </tr>\n",
       "    <tr>\n",
       "      <th>LoanID_4</th>\n",
       "      <td>Location 26</td>\n",
       "      <td>Product A</td>\n",
       "    </tr>\n",
       "    <tr>\n",
       "      <th>LoanID_5</th>\n",
       "      <td>Location 34</td>\n",
       "      <td>Product B</td>\n",
       "    </tr>\n",
       "  </tbody>\n",
       "</table>\n",
       "</div>"
      ],
      "text/plain": [
       "             Location    Product\n",
       "StringID                        \n",
       "LoanID_1   Location 3  Product B\n",
       "LoanID_2   Location 6  Product D\n",
       "LoanID_3   Location 8  Product B\n",
       "LoanID_4  Location 26  Product A\n",
       "LoanID_5  Location 34  Product B"
      ]
     },
     "execution_count": 57,
     "metadata": {},
     "output_type": "execute_result"
    }
   ],
   "source": [
    "lending_co_data[['Location', 'Product']].head()"
   ]
  },
  {
   "cell_type": "code",
   "execution_count": 58,
   "metadata": {},
   "outputs": [
    {
     "data": {
      "text/html": [
       "<div>\n",
       "<style scoped>\n",
       "    .dataframe tbody tr th:only-of-type {\n",
       "        vertical-align: middle;\n",
       "    }\n",
       "\n",
       "    .dataframe tbody tr th {\n",
       "        vertical-align: top;\n",
       "    }\n",
       "\n",
       "    .dataframe thead th {\n",
       "        text-align: right;\n",
       "    }\n",
       "</style>\n",
       "<table border=\"1\" class=\"dataframe\">\n",
       "  <thead>\n",
       "    <tr style=\"text-align: right;\">\n",
       "      <th></th>\n",
       "      <th>Location</th>\n",
       "      <th>Product</th>\n",
       "    </tr>\n",
       "    <tr>\n",
       "      <th>StringID</th>\n",
       "      <th></th>\n",
       "      <th></th>\n",
       "    </tr>\n",
       "  </thead>\n",
       "  <tbody>\n",
       "    <tr>\n",
       "      <th>LoanID_1</th>\n",
       "      <td>Location 3</td>\n",
       "      <td>Product B</td>\n",
       "    </tr>\n",
       "    <tr>\n",
       "      <th>LoanID_2</th>\n",
       "      <td>Location 6</td>\n",
       "      <td>Product D</td>\n",
       "    </tr>\n",
       "    <tr>\n",
       "      <th>LoanID_3</th>\n",
       "      <td>Location 8</td>\n",
       "      <td>Product B</td>\n",
       "    </tr>\n",
       "    <tr>\n",
       "      <th>LoanID_4</th>\n",
       "      <td>Location 26</td>\n",
       "      <td>Product A</td>\n",
       "    </tr>\n",
       "    <tr>\n",
       "      <th>LoanID_5</th>\n",
       "      <td>Location 34</td>\n",
       "      <td>Product B</td>\n",
       "    </tr>\n",
       "  </tbody>\n",
       "</table>\n",
       "</div>"
      ],
      "text/plain": [
       "             Location    Product\n",
       "StringID                        \n",
       "LoanID_1   Location 3  Product B\n",
       "LoanID_2   Location 6  Product D\n",
       "LoanID_3   Location 8  Product B\n",
       "LoanID_4  Location 26  Product A\n",
       "LoanID_5  Location 34  Product B"
      ]
     },
     "execution_count": 58,
     "metadata": {},
     "output_type": "execute_result"
    }
   ],
   "source": [
    "prod_loc = ['Location', 'Product']\n",
    "lending_co_data[prod_loc].head()"
   ]
  },
  {
   "cell_type": "code",
   "execution_count": 30,
   "metadata": {},
   "outputs": [
    {
     "ename": "KeyError",
     "evalue": "('Product', 'Location')",
     "output_type": "error",
     "traceback": [
      "\u001b[1;31m---------------------------------------------------------------------------\u001b[0m",
      "\u001b[1;31mKeyError\u001b[0m                                  Traceback (most recent call last)",
      "\u001b[1;32m~\\anaconda3\\lib\\site-packages\\pandas\\core\\indexes\\base.py\u001b[0m in \u001b[0;36mget_loc\u001b[1;34m(self, key, method, tolerance)\u001b[0m\n\u001b[0;32m   2645\u001b[0m             \u001b[1;32mtry\u001b[0m\u001b[1;33m:\u001b[0m\u001b[1;33m\u001b[0m\u001b[1;33m\u001b[0m\u001b[0m\n\u001b[1;32m-> 2646\u001b[1;33m                 \u001b[1;32mreturn\u001b[0m \u001b[0mself\u001b[0m\u001b[1;33m.\u001b[0m\u001b[0m_engine\u001b[0m\u001b[1;33m.\u001b[0m\u001b[0mget_loc\u001b[0m\u001b[1;33m(\u001b[0m\u001b[0mkey\u001b[0m\u001b[1;33m)\u001b[0m\u001b[1;33m\u001b[0m\u001b[1;33m\u001b[0m\u001b[0m\n\u001b[0m\u001b[0;32m   2647\u001b[0m             \u001b[1;32mexcept\u001b[0m \u001b[0mKeyError\u001b[0m\u001b[1;33m:\u001b[0m\u001b[1;33m\u001b[0m\u001b[1;33m\u001b[0m\u001b[0m\n",
      "\u001b[1;32mpandas\\_libs\\index.pyx\u001b[0m in \u001b[0;36mpandas._libs.index.IndexEngine.get_loc\u001b[1;34m()\u001b[0m\n",
      "\u001b[1;32mpandas\\_libs\\index.pyx\u001b[0m in \u001b[0;36mpandas._libs.index.IndexEngine.get_loc\u001b[1;34m()\u001b[0m\n",
      "\u001b[1;32mpandas\\_libs\\hashtable_class_helper.pxi\u001b[0m in \u001b[0;36mpandas._libs.hashtable.PyObjectHashTable.get_item\u001b[1;34m()\u001b[0m\n",
      "\u001b[1;32mpandas\\_libs\\hashtable_class_helper.pxi\u001b[0m in \u001b[0;36mpandas._libs.hashtable.PyObjectHashTable.get_item\u001b[1;34m()\u001b[0m\n",
      "\u001b[1;31mKeyError\u001b[0m: ('Product', 'Location')",
      "\nDuring handling of the above exception, another exception occurred:\n",
      "\u001b[1;31mKeyError\u001b[0m                                  Traceback (most recent call last)",
      "\u001b[1;32m<ipython-input-30-6c657ea93241>\u001b[0m in \u001b[0;36m<module>\u001b[1;34m\u001b[0m\n\u001b[1;32m----> 1\u001b[1;33m \u001b[0mlending_co_data\u001b[0m\u001b[1;33m[\u001b[0m\u001b[1;34m'Product'\u001b[0m\u001b[1;33m,\u001b[0m \u001b[1;34m'Location'\u001b[0m\u001b[1;33m]\u001b[0m\u001b[1;33m\u001b[0m\u001b[1;33m\u001b[0m\u001b[0m\n\u001b[0m",
      "\u001b[1;32m~\\anaconda3\\lib\\site-packages\\pandas\\core\\frame.py\u001b[0m in \u001b[0;36m__getitem__\u001b[1;34m(self, key)\u001b[0m\n\u001b[0;32m   2798\u001b[0m             \u001b[1;32mif\u001b[0m \u001b[0mself\u001b[0m\u001b[1;33m.\u001b[0m\u001b[0mcolumns\u001b[0m\u001b[1;33m.\u001b[0m\u001b[0mnlevels\u001b[0m \u001b[1;33m>\u001b[0m \u001b[1;36m1\u001b[0m\u001b[1;33m:\u001b[0m\u001b[1;33m\u001b[0m\u001b[1;33m\u001b[0m\u001b[0m\n\u001b[0;32m   2799\u001b[0m                 \u001b[1;32mreturn\u001b[0m \u001b[0mself\u001b[0m\u001b[1;33m.\u001b[0m\u001b[0m_getitem_multilevel\u001b[0m\u001b[1;33m(\u001b[0m\u001b[0mkey\u001b[0m\u001b[1;33m)\u001b[0m\u001b[1;33m\u001b[0m\u001b[1;33m\u001b[0m\u001b[0m\n\u001b[1;32m-> 2800\u001b[1;33m             \u001b[0mindexer\u001b[0m \u001b[1;33m=\u001b[0m \u001b[0mself\u001b[0m\u001b[1;33m.\u001b[0m\u001b[0mcolumns\u001b[0m\u001b[1;33m.\u001b[0m\u001b[0mget_loc\u001b[0m\u001b[1;33m(\u001b[0m\u001b[0mkey\u001b[0m\u001b[1;33m)\u001b[0m\u001b[1;33m\u001b[0m\u001b[1;33m\u001b[0m\u001b[0m\n\u001b[0m\u001b[0;32m   2801\u001b[0m             \u001b[1;32mif\u001b[0m \u001b[0mis_integer\u001b[0m\u001b[1;33m(\u001b[0m\u001b[0mindexer\u001b[0m\u001b[1;33m)\u001b[0m\u001b[1;33m:\u001b[0m\u001b[1;33m\u001b[0m\u001b[1;33m\u001b[0m\u001b[0m\n\u001b[0;32m   2802\u001b[0m                 \u001b[0mindexer\u001b[0m \u001b[1;33m=\u001b[0m \u001b[1;33m[\u001b[0m\u001b[0mindexer\u001b[0m\u001b[1;33m]\u001b[0m\u001b[1;33m\u001b[0m\u001b[1;33m\u001b[0m\u001b[0m\n",
      "\u001b[1;32m~\\anaconda3\\lib\\site-packages\\pandas\\core\\indexes\\base.py\u001b[0m in \u001b[0;36mget_loc\u001b[1;34m(self, key, method, tolerance)\u001b[0m\n\u001b[0;32m   2646\u001b[0m                 \u001b[1;32mreturn\u001b[0m \u001b[0mself\u001b[0m\u001b[1;33m.\u001b[0m\u001b[0m_engine\u001b[0m\u001b[1;33m.\u001b[0m\u001b[0mget_loc\u001b[0m\u001b[1;33m(\u001b[0m\u001b[0mkey\u001b[0m\u001b[1;33m)\u001b[0m\u001b[1;33m\u001b[0m\u001b[1;33m\u001b[0m\u001b[0m\n\u001b[0;32m   2647\u001b[0m             \u001b[1;32mexcept\u001b[0m \u001b[0mKeyError\u001b[0m\u001b[1;33m:\u001b[0m\u001b[1;33m\u001b[0m\u001b[1;33m\u001b[0m\u001b[0m\n\u001b[1;32m-> 2648\u001b[1;33m                 \u001b[1;32mreturn\u001b[0m \u001b[0mself\u001b[0m\u001b[1;33m.\u001b[0m\u001b[0m_engine\u001b[0m\u001b[1;33m.\u001b[0m\u001b[0mget_loc\u001b[0m\u001b[1;33m(\u001b[0m\u001b[0mself\u001b[0m\u001b[1;33m.\u001b[0m\u001b[0m_maybe_cast_indexer\u001b[0m\u001b[1;33m(\u001b[0m\u001b[0mkey\u001b[0m\u001b[1;33m)\u001b[0m\u001b[1;33m)\u001b[0m\u001b[1;33m\u001b[0m\u001b[1;33m\u001b[0m\u001b[0m\n\u001b[0m\u001b[0;32m   2649\u001b[0m         \u001b[0mindexer\u001b[0m \u001b[1;33m=\u001b[0m \u001b[0mself\u001b[0m\u001b[1;33m.\u001b[0m\u001b[0mget_indexer\u001b[0m\u001b[1;33m(\u001b[0m\u001b[1;33m[\u001b[0m\u001b[0mkey\u001b[0m\u001b[1;33m]\u001b[0m\u001b[1;33m,\u001b[0m \u001b[0mmethod\u001b[0m\u001b[1;33m=\u001b[0m\u001b[0mmethod\u001b[0m\u001b[1;33m,\u001b[0m \u001b[0mtolerance\u001b[0m\u001b[1;33m=\u001b[0m\u001b[0mtolerance\u001b[0m\u001b[1;33m)\u001b[0m\u001b[1;33m\u001b[0m\u001b[1;33m\u001b[0m\u001b[0m\n\u001b[0;32m   2650\u001b[0m         \u001b[1;32mif\u001b[0m \u001b[0mindexer\u001b[0m\u001b[1;33m.\u001b[0m\u001b[0mndim\u001b[0m \u001b[1;33m>\u001b[0m \u001b[1;36m1\u001b[0m \u001b[1;32mor\u001b[0m \u001b[0mindexer\u001b[0m\u001b[1;33m.\u001b[0m\u001b[0msize\u001b[0m \u001b[1;33m>\u001b[0m \u001b[1;36m1\u001b[0m\u001b[1;33m:\u001b[0m\u001b[1;33m\u001b[0m\u001b[1;33m\u001b[0m\u001b[0m\n",
      "\u001b[1;32mpandas\\_libs\\index.pyx\u001b[0m in \u001b[0;36mpandas._libs.index.IndexEngine.get_loc\u001b[1;34m()\u001b[0m\n",
      "\u001b[1;32mpandas\\_libs\\index.pyx\u001b[0m in \u001b[0;36mpandas._libs.index.IndexEngine.get_loc\u001b[1;34m()\u001b[0m\n",
      "\u001b[1;32mpandas\\_libs\\hashtable_class_helper.pxi\u001b[0m in \u001b[0;36mpandas._libs.hashtable.PyObjectHashTable.get_item\u001b[1;34m()\u001b[0m\n",
      "\u001b[1;32mpandas\\_libs\\hashtable_class_helper.pxi\u001b[0m in \u001b[0;36mpandas._libs.hashtable.PyObjectHashTable.get_item\u001b[1;34m()\u001b[0m\n",
      "\u001b[1;31mKeyError\u001b[0m: ('Product', 'Location')"
     ]
    }
   ],
   "source": [
    "lending_co_data['Product', 'Location']"
   ]
  },
  {
   "cell_type": "markdown",
   "metadata": {},
   "source": [
    "## pandas DataFrames - Indexing with .iloc[]"
   ]
  },
  {
   "cell_type": "code",
   "execution_count": 31,
   "metadata": {},
   "outputs": [],
   "source": [
    "import pandas as pd"
   ]
  },
  {
   "cell_type": "code",
   "execution_count": 32,
   "metadata": {},
   "outputs": [
    {
     "data": {
      "text/html": [
       "<div>\n",
       "<style scoped>\n",
       "    .dataframe tbody tr th:only-of-type {\n",
       "        vertical-align: middle;\n",
       "    }\n",
       "\n",
       "    .dataframe tbody tr th {\n",
       "        vertical-align: top;\n",
       "    }\n",
       "\n",
       "    .dataframe thead th {\n",
       "        text-align: right;\n",
       "    }\n",
       "</style>\n",
       "<table border=\"1\" class=\"dataframe\">\n",
       "  <thead>\n",
       "    <tr style=\"text-align: right;\">\n",
       "      <th></th>\n",
       "      <th>LoanID</th>\n",
       "      <th>Product</th>\n",
       "      <th>CustomerGender</th>\n",
       "      <th>Location</th>\n",
       "      <th>Region</th>\n",
       "      <th>TotalPrice</th>\n",
       "      <th>StartDate</th>\n",
       "      <th>Deposit</th>\n",
       "      <th>DailyRate</th>\n",
       "      <th>TotalDaysYr</th>\n",
       "      <th>AmtPaid36</th>\n",
       "      <th>AmtPaid60</th>\n",
       "      <th>AmtPaid360</th>\n",
       "      <th>LoanStatus</th>\n",
       "    </tr>\n",
       "    <tr>\n",
       "      <th>StringID</th>\n",
       "      <th></th>\n",
       "      <th></th>\n",
       "      <th></th>\n",
       "      <th></th>\n",
       "      <th></th>\n",
       "      <th></th>\n",
       "      <th></th>\n",
       "      <th></th>\n",
       "      <th></th>\n",
       "      <th></th>\n",
       "      <th></th>\n",
       "      <th></th>\n",
       "      <th></th>\n",
       "      <th></th>\n",
       "    </tr>\n",
       "  </thead>\n",
       "  <tbody>\n",
       "    <tr>\n",
       "      <th>LoanID_1</th>\n",
       "      <td>1</td>\n",
       "      <td>Product B</td>\n",
       "      <td>Female</td>\n",
       "      <td>Location 3</td>\n",
       "      <td>Region 2</td>\n",
       "      <td>17600.0</td>\n",
       "      <td>04/07/2018</td>\n",
       "      <td>2200</td>\n",
       "      <td>45</td>\n",
       "      <td>365</td>\n",
       "      <td>3221</td>\n",
       "      <td>4166</td>\n",
       "      <td>14621</td>\n",
       "      <td>Active</td>\n",
       "    </tr>\n",
       "    <tr>\n",
       "      <th>LoanID_2</th>\n",
       "      <td>2</td>\n",
       "      <td>Product D</td>\n",
       "      <td>Female</td>\n",
       "      <td>Location 6</td>\n",
       "      <td>Region 6</td>\n",
       "      <td>NaN</td>\n",
       "      <td>02/01/2019</td>\n",
       "      <td>2200</td>\n",
       "      <td>45</td>\n",
       "      <td>365</td>\n",
       "      <td>3161</td>\n",
       "      <td>4096</td>\n",
       "      <td>16041</td>\n",
       "      <td>Active</td>\n",
       "    </tr>\n",
       "    <tr>\n",
       "      <th>LoanID_3</th>\n",
       "      <td>3</td>\n",
       "      <td>Product B</td>\n",
       "      <td>Male</td>\n",
       "      <td>Location 8</td>\n",
       "      <td>Region 3</td>\n",
       "      <td>16600.0</td>\n",
       "      <td>08/12/2016</td>\n",
       "      <td>1000</td>\n",
       "      <td>45</td>\n",
       "      <td>365</td>\n",
       "      <td>2260</td>\n",
       "      <td>3205</td>\n",
       "      <td>16340</td>\n",
       "      <td>NaN</td>\n",
       "    </tr>\n",
       "    <tr>\n",
       "      <th>LoanID_4</th>\n",
       "      <td>4</td>\n",
       "      <td>Product A</td>\n",
       "      <td>Male</td>\n",
       "      <td>Location 26</td>\n",
       "      <td>Region 2</td>\n",
       "      <td>17600.0</td>\n",
       "      <td>NaN</td>\n",
       "      <td>2200</td>\n",
       "      <td>45</td>\n",
       "      <td>365</td>\n",
       "      <td>3141</td>\n",
       "      <td>4166</td>\n",
       "      <td>16321</td>\n",
       "      <td>Active</td>\n",
       "    </tr>\n",
       "    <tr>\n",
       "      <th>LoanID_5</th>\n",
       "      <td>5</td>\n",
       "      <td>Product B</td>\n",
       "      <td>Female</td>\n",
       "      <td>Location 34</td>\n",
       "      <td>Region 3</td>\n",
       "      <td>21250.0</td>\n",
       "      <td>28/10/2017</td>\n",
       "      <td>2200</td>\n",
       "      <td>55</td>\n",
       "      <td>365</td>\n",
       "      <td>3570</td>\n",
       "      <td>4745</td>\n",
       "      <td>14720</td>\n",
       "      <td>Active</td>\n",
       "    </tr>\n",
       "  </tbody>\n",
       "</table>\n",
       "</div>"
      ],
      "text/plain": [
       "          LoanID    Product CustomerGender     Location    Region  TotalPrice  \\\n",
       "StringID                                                                        \n",
       "LoanID_1       1  Product B         Female   Location 3  Region 2     17600.0   \n",
       "LoanID_2       2  Product D         Female   Location 6  Region 6         NaN   \n",
       "LoanID_3       3  Product B           Male   Location 8  Region 3     16600.0   \n",
       "LoanID_4       4  Product A           Male  Location 26  Region 2     17600.0   \n",
       "LoanID_5       5  Product B         Female  Location 34  Region 3     21250.0   \n",
       "\n",
       "           StartDate  Deposit  DailyRate  TotalDaysYr  AmtPaid36  AmtPaid60  \\\n",
       "StringID                                                                      \n",
       "LoanID_1  04/07/2018     2200         45          365       3221       4166   \n",
       "LoanID_2  02/01/2019     2200         45          365       3161       4096   \n",
       "LoanID_3  08/12/2016     1000         45          365       2260       3205   \n",
       "LoanID_4         NaN     2200         45          365       3141       4166   \n",
       "LoanID_5  28/10/2017     2200         55          365       3570       4745   \n",
       "\n",
       "          AmtPaid360 LoanStatus  \n",
       "StringID                         \n",
       "LoanID_1       14621     Active  \n",
       "LoanID_2       16041     Active  \n",
       "LoanID_3       16340        NaN  \n",
       "LoanID_4       16321     Active  \n",
       "LoanID_5       14720     Active  "
      ]
     },
     "execution_count": 32,
     "metadata": {},
     "output_type": "execute_result"
    }
   ],
   "source": [
    "data = pd.read_csv('Lending-company.csv', index_col = 'StringID')\n",
    "lending_co_data = data.copy()\n",
    "lending_co_data.head()"
   ]
  },
  {
   "cell_type": "code",
   "execution_count": 33,
   "metadata": {},
   "outputs": [
    {
     "ename": "KeyError",
     "evalue": "1",
     "output_type": "error",
     "traceback": [
      "\u001b[1;31m---------------------------------------------------------------------------\u001b[0m",
      "\u001b[1;31mKeyError\u001b[0m                                  Traceback (most recent call last)",
      "\u001b[1;32m~\\anaconda3\\lib\\site-packages\\pandas\\core\\indexes\\base.py\u001b[0m in \u001b[0;36mget_loc\u001b[1;34m(self, key, method, tolerance)\u001b[0m\n\u001b[0;32m   2645\u001b[0m             \u001b[1;32mtry\u001b[0m\u001b[1;33m:\u001b[0m\u001b[1;33m\u001b[0m\u001b[1;33m\u001b[0m\u001b[0m\n\u001b[1;32m-> 2646\u001b[1;33m                 \u001b[1;32mreturn\u001b[0m \u001b[0mself\u001b[0m\u001b[1;33m.\u001b[0m\u001b[0m_engine\u001b[0m\u001b[1;33m.\u001b[0m\u001b[0mget_loc\u001b[0m\u001b[1;33m(\u001b[0m\u001b[0mkey\u001b[0m\u001b[1;33m)\u001b[0m\u001b[1;33m\u001b[0m\u001b[1;33m\u001b[0m\u001b[0m\n\u001b[0m\u001b[0;32m   2647\u001b[0m             \u001b[1;32mexcept\u001b[0m \u001b[0mKeyError\u001b[0m\u001b[1;33m:\u001b[0m\u001b[1;33m\u001b[0m\u001b[1;33m\u001b[0m\u001b[0m\n",
      "\u001b[1;32mpandas\\_libs\\index.pyx\u001b[0m in \u001b[0;36mpandas._libs.index.IndexEngine.get_loc\u001b[1;34m()\u001b[0m\n",
      "\u001b[1;32mpandas\\_libs\\index.pyx\u001b[0m in \u001b[0;36mpandas._libs.index.IndexEngine.get_loc\u001b[1;34m()\u001b[0m\n",
      "\u001b[1;32mpandas\\_libs\\hashtable_class_helper.pxi\u001b[0m in \u001b[0;36mpandas._libs.hashtable.PyObjectHashTable.get_item\u001b[1;34m()\u001b[0m\n",
      "\u001b[1;32mpandas\\_libs\\hashtable_class_helper.pxi\u001b[0m in \u001b[0;36mpandas._libs.hashtable.PyObjectHashTable.get_item\u001b[1;34m()\u001b[0m\n",
      "\u001b[1;31mKeyError\u001b[0m: 1",
      "\nDuring handling of the above exception, another exception occurred:\n",
      "\u001b[1;31mKeyError\u001b[0m                                  Traceback (most recent call last)",
      "\u001b[1;32m<ipython-input-33-d8142b602410>\u001b[0m in \u001b[0;36m<module>\u001b[1;34m\u001b[0m\n\u001b[1;32m----> 1\u001b[1;33m \u001b[0mlending_co_data\u001b[0m\u001b[1;33m[\u001b[0m\u001b[1;36m1\u001b[0m\u001b[1;33m]\u001b[0m\u001b[1;33m\u001b[0m\u001b[1;33m\u001b[0m\u001b[0m\n\u001b[0m",
      "\u001b[1;32m~\\anaconda3\\lib\\site-packages\\pandas\\core\\frame.py\u001b[0m in \u001b[0;36m__getitem__\u001b[1;34m(self, key)\u001b[0m\n\u001b[0;32m   2798\u001b[0m             \u001b[1;32mif\u001b[0m \u001b[0mself\u001b[0m\u001b[1;33m.\u001b[0m\u001b[0mcolumns\u001b[0m\u001b[1;33m.\u001b[0m\u001b[0mnlevels\u001b[0m \u001b[1;33m>\u001b[0m \u001b[1;36m1\u001b[0m\u001b[1;33m:\u001b[0m\u001b[1;33m\u001b[0m\u001b[1;33m\u001b[0m\u001b[0m\n\u001b[0;32m   2799\u001b[0m                 \u001b[1;32mreturn\u001b[0m \u001b[0mself\u001b[0m\u001b[1;33m.\u001b[0m\u001b[0m_getitem_multilevel\u001b[0m\u001b[1;33m(\u001b[0m\u001b[0mkey\u001b[0m\u001b[1;33m)\u001b[0m\u001b[1;33m\u001b[0m\u001b[1;33m\u001b[0m\u001b[0m\n\u001b[1;32m-> 2800\u001b[1;33m             \u001b[0mindexer\u001b[0m \u001b[1;33m=\u001b[0m \u001b[0mself\u001b[0m\u001b[1;33m.\u001b[0m\u001b[0mcolumns\u001b[0m\u001b[1;33m.\u001b[0m\u001b[0mget_loc\u001b[0m\u001b[1;33m(\u001b[0m\u001b[0mkey\u001b[0m\u001b[1;33m)\u001b[0m\u001b[1;33m\u001b[0m\u001b[1;33m\u001b[0m\u001b[0m\n\u001b[0m\u001b[0;32m   2801\u001b[0m             \u001b[1;32mif\u001b[0m \u001b[0mis_integer\u001b[0m\u001b[1;33m(\u001b[0m\u001b[0mindexer\u001b[0m\u001b[1;33m)\u001b[0m\u001b[1;33m:\u001b[0m\u001b[1;33m\u001b[0m\u001b[1;33m\u001b[0m\u001b[0m\n\u001b[0;32m   2802\u001b[0m                 \u001b[0mindexer\u001b[0m \u001b[1;33m=\u001b[0m \u001b[1;33m[\u001b[0m\u001b[0mindexer\u001b[0m\u001b[1;33m]\u001b[0m\u001b[1;33m\u001b[0m\u001b[1;33m\u001b[0m\u001b[0m\n",
      "\u001b[1;32m~\\anaconda3\\lib\\site-packages\\pandas\\core\\indexes\\base.py\u001b[0m in \u001b[0;36mget_loc\u001b[1;34m(self, key, method, tolerance)\u001b[0m\n\u001b[0;32m   2646\u001b[0m                 \u001b[1;32mreturn\u001b[0m \u001b[0mself\u001b[0m\u001b[1;33m.\u001b[0m\u001b[0m_engine\u001b[0m\u001b[1;33m.\u001b[0m\u001b[0mget_loc\u001b[0m\u001b[1;33m(\u001b[0m\u001b[0mkey\u001b[0m\u001b[1;33m)\u001b[0m\u001b[1;33m\u001b[0m\u001b[1;33m\u001b[0m\u001b[0m\n\u001b[0;32m   2647\u001b[0m             \u001b[1;32mexcept\u001b[0m \u001b[0mKeyError\u001b[0m\u001b[1;33m:\u001b[0m\u001b[1;33m\u001b[0m\u001b[1;33m\u001b[0m\u001b[0m\n\u001b[1;32m-> 2648\u001b[1;33m                 \u001b[1;32mreturn\u001b[0m \u001b[0mself\u001b[0m\u001b[1;33m.\u001b[0m\u001b[0m_engine\u001b[0m\u001b[1;33m.\u001b[0m\u001b[0mget_loc\u001b[0m\u001b[1;33m(\u001b[0m\u001b[0mself\u001b[0m\u001b[1;33m.\u001b[0m\u001b[0m_maybe_cast_indexer\u001b[0m\u001b[1;33m(\u001b[0m\u001b[0mkey\u001b[0m\u001b[1;33m)\u001b[0m\u001b[1;33m)\u001b[0m\u001b[1;33m\u001b[0m\u001b[1;33m\u001b[0m\u001b[0m\n\u001b[0m\u001b[0;32m   2649\u001b[0m         \u001b[0mindexer\u001b[0m \u001b[1;33m=\u001b[0m \u001b[0mself\u001b[0m\u001b[1;33m.\u001b[0m\u001b[0mget_indexer\u001b[0m\u001b[1;33m(\u001b[0m\u001b[1;33m[\u001b[0m\u001b[0mkey\u001b[0m\u001b[1;33m]\u001b[0m\u001b[1;33m,\u001b[0m \u001b[0mmethod\u001b[0m\u001b[1;33m=\u001b[0m\u001b[0mmethod\u001b[0m\u001b[1;33m,\u001b[0m \u001b[0mtolerance\u001b[0m\u001b[1;33m=\u001b[0m\u001b[0mtolerance\u001b[0m\u001b[1;33m)\u001b[0m\u001b[1;33m\u001b[0m\u001b[1;33m\u001b[0m\u001b[0m\n\u001b[0;32m   2650\u001b[0m         \u001b[1;32mif\u001b[0m \u001b[0mindexer\u001b[0m\u001b[1;33m.\u001b[0m\u001b[0mndim\u001b[0m \u001b[1;33m>\u001b[0m \u001b[1;36m1\u001b[0m \u001b[1;32mor\u001b[0m \u001b[0mindexer\u001b[0m\u001b[1;33m.\u001b[0m\u001b[0msize\u001b[0m \u001b[1;33m>\u001b[0m \u001b[1;36m1\u001b[0m\u001b[1;33m:\u001b[0m\u001b[1;33m\u001b[0m\u001b[1;33m\u001b[0m\u001b[0m\n",
      "\u001b[1;32mpandas\\_libs\\index.pyx\u001b[0m in \u001b[0;36mpandas._libs.index.IndexEngine.get_loc\u001b[1;34m()\u001b[0m\n",
      "\u001b[1;32mpandas\\_libs\\index.pyx\u001b[0m in \u001b[0;36mpandas._libs.index.IndexEngine.get_loc\u001b[1;34m()\u001b[0m\n",
      "\u001b[1;32mpandas\\_libs\\hashtable_class_helper.pxi\u001b[0m in \u001b[0;36mpandas._libs.hashtable.PyObjectHashTable.get_item\u001b[1;34m()\u001b[0m\n",
      "\u001b[1;32mpandas\\_libs\\hashtable_class_helper.pxi\u001b[0m in \u001b[0;36mpandas._libs.hashtable.PyObjectHashTable.get_item\u001b[1;34m()\u001b[0m\n",
      "\u001b[1;31mKeyError\u001b[0m: 1"
     ]
    }
   ],
   "source": [
    "lending_co_data[1]"
   ]
  },
  {
   "cell_type": "code",
   "execution_count": 34,
   "metadata": {},
   "outputs": [
    {
     "ename": "KeyError",
     "evalue": "(0, 1)",
     "output_type": "error",
     "traceback": [
      "\u001b[1;31m---------------------------------------------------------------------------\u001b[0m",
      "\u001b[1;31mKeyError\u001b[0m                                  Traceback (most recent call last)",
      "\u001b[1;32m~\\anaconda3\\lib\\site-packages\\pandas\\core\\indexes\\base.py\u001b[0m in \u001b[0;36mget_loc\u001b[1;34m(self, key, method, tolerance)\u001b[0m\n\u001b[0;32m   2645\u001b[0m             \u001b[1;32mtry\u001b[0m\u001b[1;33m:\u001b[0m\u001b[1;33m\u001b[0m\u001b[1;33m\u001b[0m\u001b[0m\n\u001b[1;32m-> 2646\u001b[1;33m                 \u001b[1;32mreturn\u001b[0m \u001b[0mself\u001b[0m\u001b[1;33m.\u001b[0m\u001b[0m_engine\u001b[0m\u001b[1;33m.\u001b[0m\u001b[0mget_loc\u001b[0m\u001b[1;33m(\u001b[0m\u001b[0mkey\u001b[0m\u001b[1;33m)\u001b[0m\u001b[1;33m\u001b[0m\u001b[1;33m\u001b[0m\u001b[0m\n\u001b[0m\u001b[0;32m   2647\u001b[0m             \u001b[1;32mexcept\u001b[0m \u001b[0mKeyError\u001b[0m\u001b[1;33m:\u001b[0m\u001b[1;33m\u001b[0m\u001b[1;33m\u001b[0m\u001b[0m\n",
      "\u001b[1;32mpandas\\_libs\\index.pyx\u001b[0m in \u001b[0;36mpandas._libs.index.IndexEngine.get_loc\u001b[1;34m()\u001b[0m\n",
      "\u001b[1;32mpandas\\_libs\\index.pyx\u001b[0m in \u001b[0;36mpandas._libs.index.IndexEngine.get_loc\u001b[1;34m()\u001b[0m\n",
      "\u001b[1;32mpandas\\_libs\\hashtable_class_helper.pxi\u001b[0m in \u001b[0;36mpandas._libs.hashtable.PyObjectHashTable.get_item\u001b[1;34m()\u001b[0m\n",
      "\u001b[1;32mpandas\\_libs\\hashtable_class_helper.pxi\u001b[0m in \u001b[0;36mpandas._libs.hashtable.PyObjectHashTable.get_item\u001b[1;34m()\u001b[0m\n",
      "\u001b[1;31mKeyError\u001b[0m: (0, 1)",
      "\nDuring handling of the above exception, another exception occurred:\n",
      "\u001b[1;31mKeyError\u001b[0m                                  Traceback (most recent call last)",
      "\u001b[1;32m<ipython-input-34-d6f13c13de4f>\u001b[0m in \u001b[0;36m<module>\u001b[1;34m\u001b[0m\n\u001b[1;32m----> 1\u001b[1;33m \u001b[0mlending_co_data\u001b[0m\u001b[1;33m[\u001b[0m\u001b[1;36m0\u001b[0m\u001b[1;33m,\u001b[0m\u001b[1;36m1\u001b[0m\u001b[1;33m]\u001b[0m\u001b[1;33m\u001b[0m\u001b[1;33m\u001b[0m\u001b[0m\n\u001b[0m",
      "\u001b[1;32m~\\anaconda3\\lib\\site-packages\\pandas\\core\\frame.py\u001b[0m in \u001b[0;36m__getitem__\u001b[1;34m(self, key)\u001b[0m\n\u001b[0;32m   2798\u001b[0m             \u001b[1;32mif\u001b[0m \u001b[0mself\u001b[0m\u001b[1;33m.\u001b[0m\u001b[0mcolumns\u001b[0m\u001b[1;33m.\u001b[0m\u001b[0mnlevels\u001b[0m \u001b[1;33m>\u001b[0m \u001b[1;36m1\u001b[0m\u001b[1;33m:\u001b[0m\u001b[1;33m\u001b[0m\u001b[1;33m\u001b[0m\u001b[0m\n\u001b[0;32m   2799\u001b[0m                 \u001b[1;32mreturn\u001b[0m \u001b[0mself\u001b[0m\u001b[1;33m.\u001b[0m\u001b[0m_getitem_multilevel\u001b[0m\u001b[1;33m(\u001b[0m\u001b[0mkey\u001b[0m\u001b[1;33m)\u001b[0m\u001b[1;33m\u001b[0m\u001b[1;33m\u001b[0m\u001b[0m\n\u001b[1;32m-> 2800\u001b[1;33m             \u001b[0mindexer\u001b[0m \u001b[1;33m=\u001b[0m \u001b[0mself\u001b[0m\u001b[1;33m.\u001b[0m\u001b[0mcolumns\u001b[0m\u001b[1;33m.\u001b[0m\u001b[0mget_loc\u001b[0m\u001b[1;33m(\u001b[0m\u001b[0mkey\u001b[0m\u001b[1;33m)\u001b[0m\u001b[1;33m\u001b[0m\u001b[1;33m\u001b[0m\u001b[0m\n\u001b[0m\u001b[0;32m   2801\u001b[0m             \u001b[1;32mif\u001b[0m \u001b[0mis_integer\u001b[0m\u001b[1;33m(\u001b[0m\u001b[0mindexer\u001b[0m\u001b[1;33m)\u001b[0m\u001b[1;33m:\u001b[0m\u001b[1;33m\u001b[0m\u001b[1;33m\u001b[0m\u001b[0m\n\u001b[0;32m   2802\u001b[0m                 \u001b[0mindexer\u001b[0m \u001b[1;33m=\u001b[0m \u001b[1;33m[\u001b[0m\u001b[0mindexer\u001b[0m\u001b[1;33m]\u001b[0m\u001b[1;33m\u001b[0m\u001b[1;33m\u001b[0m\u001b[0m\n",
      "\u001b[1;32m~\\anaconda3\\lib\\site-packages\\pandas\\core\\indexes\\base.py\u001b[0m in \u001b[0;36mget_loc\u001b[1;34m(self, key, method, tolerance)\u001b[0m\n\u001b[0;32m   2646\u001b[0m                 \u001b[1;32mreturn\u001b[0m \u001b[0mself\u001b[0m\u001b[1;33m.\u001b[0m\u001b[0m_engine\u001b[0m\u001b[1;33m.\u001b[0m\u001b[0mget_loc\u001b[0m\u001b[1;33m(\u001b[0m\u001b[0mkey\u001b[0m\u001b[1;33m)\u001b[0m\u001b[1;33m\u001b[0m\u001b[1;33m\u001b[0m\u001b[0m\n\u001b[0;32m   2647\u001b[0m             \u001b[1;32mexcept\u001b[0m \u001b[0mKeyError\u001b[0m\u001b[1;33m:\u001b[0m\u001b[1;33m\u001b[0m\u001b[1;33m\u001b[0m\u001b[0m\n\u001b[1;32m-> 2648\u001b[1;33m                 \u001b[1;32mreturn\u001b[0m \u001b[0mself\u001b[0m\u001b[1;33m.\u001b[0m\u001b[0m_engine\u001b[0m\u001b[1;33m.\u001b[0m\u001b[0mget_loc\u001b[0m\u001b[1;33m(\u001b[0m\u001b[0mself\u001b[0m\u001b[1;33m.\u001b[0m\u001b[0m_maybe_cast_indexer\u001b[0m\u001b[1;33m(\u001b[0m\u001b[0mkey\u001b[0m\u001b[1;33m)\u001b[0m\u001b[1;33m)\u001b[0m\u001b[1;33m\u001b[0m\u001b[1;33m\u001b[0m\u001b[0m\n\u001b[0m\u001b[0;32m   2649\u001b[0m         \u001b[0mindexer\u001b[0m \u001b[1;33m=\u001b[0m \u001b[0mself\u001b[0m\u001b[1;33m.\u001b[0m\u001b[0mget_indexer\u001b[0m\u001b[1;33m(\u001b[0m\u001b[1;33m[\u001b[0m\u001b[0mkey\u001b[0m\u001b[1;33m]\u001b[0m\u001b[1;33m,\u001b[0m \u001b[0mmethod\u001b[0m\u001b[1;33m=\u001b[0m\u001b[0mmethod\u001b[0m\u001b[1;33m,\u001b[0m \u001b[0mtolerance\u001b[0m\u001b[1;33m=\u001b[0m\u001b[0mtolerance\u001b[0m\u001b[1;33m)\u001b[0m\u001b[1;33m\u001b[0m\u001b[1;33m\u001b[0m\u001b[0m\n\u001b[0;32m   2650\u001b[0m         \u001b[1;32mif\u001b[0m \u001b[0mindexer\u001b[0m\u001b[1;33m.\u001b[0m\u001b[0mndim\u001b[0m \u001b[1;33m>\u001b[0m \u001b[1;36m1\u001b[0m \u001b[1;32mor\u001b[0m \u001b[0mindexer\u001b[0m\u001b[1;33m.\u001b[0m\u001b[0msize\u001b[0m \u001b[1;33m>\u001b[0m \u001b[1;36m1\u001b[0m\u001b[1;33m:\u001b[0m\u001b[1;33m\u001b[0m\u001b[1;33m\u001b[0m\u001b[0m\n",
      "\u001b[1;32mpandas\\_libs\\index.pyx\u001b[0m in \u001b[0;36mpandas._libs.index.IndexEngine.get_loc\u001b[1;34m()\u001b[0m\n",
      "\u001b[1;32mpandas\\_libs\\index.pyx\u001b[0m in \u001b[0;36mpandas._libs.index.IndexEngine.get_loc\u001b[1;34m()\u001b[0m\n",
      "\u001b[1;32mpandas\\_libs\\hashtable_class_helper.pxi\u001b[0m in \u001b[0;36mpandas._libs.hashtable.PyObjectHashTable.get_item\u001b[1;34m()\u001b[0m\n",
      "\u001b[1;32mpandas\\_libs\\hashtable_class_helper.pxi\u001b[0m in \u001b[0;36mpandas._libs.hashtable.PyObjectHashTable.get_item\u001b[1;34m()\u001b[0m\n",
      "\u001b[1;31mKeyError\u001b[0m: (0, 1)"
     ]
    }
   ],
   "source": [
    "lending_co_data[0,1]"
   ]
  },
  {
   "cell_type": "code",
   "execution_count": 35,
   "metadata": {},
   "outputs": [
    {
     "data": {
      "text/plain": [
       "StringID\n",
       "LoanID_1       Product B\n",
       "LoanID_2       Product D\n",
       "LoanID_3       Product B\n",
       "LoanID_4       Product A\n",
       "LoanID_5       Product B\n",
       "                 ...    \n",
       "LoanID_1039    Product B\n",
       "LoanID_1040    Product A\n",
       "LoanID_1041    Product A\n",
       "LoanID_1042    Product B\n",
       "LoanID_1043    Product A\n",
       "Name: Product, Length: 1043, dtype: object"
      ]
     },
     "execution_count": 35,
     "metadata": {},
     "output_type": "execute_result"
    }
   ],
   "source": [
    "lending_co_data['Product']"
   ]
  },
  {
   "cell_type": "code",
   "execution_count": 36,
   "metadata": {},
   "outputs": [
    {
     "data": {
      "text/plain": [
       "LoanID                     2\n",
       "Product            Product D\n",
       "CustomerGender        Female\n",
       "Location          Location 6\n",
       "Region              Region 6\n",
       "TotalPrice               NaN\n",
       "StartDate         02/01/2019\n",
       "Deposit                 2200\n",
       "DailyRate                 45\n",
       "TotalDaysYr              365\n",
       "AmtPaid36               3161\n",
       "AmtPaid60               4096\n",
       "AmtPaid360             16041\n",
       "LoanStatus            Active\n",
       "Name: LoanID_2, dtype: object"
      ]
     },
     "execution_count": 36,
     "metadata": {},
     "output_type": "execute_result"
    }
   ],
   "source": [
    "lending_co_data.iloc[1]"
   ]
  },
  {
   "cell_type": "code",
   "execution_count": 37,
   "metadata": {},
   "outputs": [
    {
     "data": {
      "text/plain": [
       "'Location 6'"
      ]
     },
     "execution_count": 37,
     "metadata": {},
     "output_type": "execute_result"
    }
   ],
   "source": [
    "lending_co_data.iloc[1, 3]"
   ]
  },
  {
   "cell_type": "code",
   "execution_count": 38,
   "metadata": {},
   "outputs": [
    {
     "data": {
      "text/plain": [
       "LoanID                     2\n",
       "Product            Product D\n",
       "CustomerGender        Female\n",
       "Location          Location 6\n",
       "Region              Region 6\n",
       "TotalPrice               NaN\n",
       "StartDate         02/01/2019\n",
       "Deposit                 2200\n",
       "DailyRate                 45\n",
       "TotalDaysYr              365\n",
       "AmtPaid36               3161\n",
       "AmtPaid60               4096\n",
       "AmtPaid360             16041\n",
       "LoanStatus            Active\n",
       "Name: LoanID_2, dtype: object"
      ]
     },
     "execution_count": 38,
     "metadata": {},
     "output_type": "execute_result"
    }
   ],
   "source": [
    "lending_co_data.iloc[1,:]"
   ]
  },
  {
   "cell_type": "code",
   "execution_count": 39,
   "metadata": {},
   "outputs": [
    {
     "data": {
      "text/plain": [
       "StringID\n",
       "LoanID_1        Location 3\n",
       "LoanID_2        Location 6\n",
       "LoanID_3        Location 8\n",
       "LoanID_4       Location 26\n",
       "LoanID_5       Location 34\n",
       "                  ...     \n",
       "LoanID_1039    Location 73\n",
       "LoanID_1040    Location 82\n",
       "LoanID_1041    Location 11\n",
       "LoanID_1042    Location 26\n",
       "LoanID_1043    Location 94\n",
       "Name: Location, Length: 1043, dtype: object"
      ]
     },
     "execution_count": 39,
     "metadata": {},
     "output_type": "execute_result"
    }
   ],
   "source": [
    "lending_co_data.iloc[:, 3]"
   ]
  },
  {
   "cell_type": "code",
   "execution_count": 40,
   "metadata": {
    "scrolled": false
   },
   "outputs": [
    {
     "data": {
      "text/plain": [
       "str"
      ]
     },
     "execution_count": 40,
     "metadata": {},
     "output_type": "execute_result"
    }
   ],
   "source": [
    "type(lending_co_data.iloc[1, 3])"
   ]
  },
  {
   "cell_type": "code",
   "execution_count": 41,
   "metadata": {},
   "outputs": [
    {
     "data": {
      "text/plain": [
       "pandas.core.series.Series"
      ]
     },
     "execution_count": 41,
     "metadata": {},
     "output_type": "execute_result"
    }
   ],
   "source": [
    "type(lending_co_data.iloc[1, :])"
   ]
  },
  {
   "cell_type": "code",
   "execution_count": 42,
   "metadata": {},
   "outputs": [
    {
     "data": {
      "text/plain": [
       "pandas.core.series.Series"
      ]
     },
     "execution_count": 42,
     "metadata": {},
     "output_type": "execute_result"
    }
   ],
   "source": [
    "type(lending_co_data.iloc[:, 3])"
   ]
  },
  {
   "cell_type": "code",
   "execution_count": 43,
   "metadata": {
    "scrolled": true
   },
   "outputs": [
    {
     "data": {
      "text/html": [
       "<div>\n",
       "<style scoped>\n",
       "    .dataframe tbody tr th:only-of-type {\n",
       "        vertical-align: middle;\n",
       "    }\n",
       "\n",
       "    .dataframe tbody tr th {\n",
       "        vertical-align: top;\n",
       "    }\n",
       "\n",
       "    .dataframe thead th {\n",
       "        text-align: right;\n",
       "    }\n",
       "</style>\n",
       "<table border=\"1\" class=\"dataframe\">\n",
       "  <thead>\n",
       "    <tr style=\"text-align: right;\">\n",
       "      <th></th>\n",
       "      <th>LoanID</th>\n",
       "      <th>Product</th>\n",
       "      <th>CustomerGender</th>\n",
       "      <th>Location</th>\n",
       "      <th>Region</th>\n",
       "      <th>TotalPrice</th>\n",
       "      <th>StartDate</th>\n",
       "      <th>Deposit</th>\n",
       "      <th>DailyRate</th>\n",
       "      <th>TotalDaysYr</th>\n",
       "      <th>AmtPaid36</th>\n",
       "      <th>AmtPaid60</th>\n",
       "      <th>AmtPaid360</th>\n",
       "      <th>LoanStatus</th>\n",
       "    </tr>\n",
       "    <tr>\n",
       "      <th>StringID</th>\n",
       "      <th></th>\n",
       "      <th></th>\n",
       "      <th></th>\n",
       "      <th></th>\n",
       "      <th></th>\n",
       "      <th></th>\n",
       "      <th></th>\n",
       "      <th></th>\n",
       "      <th></th>\n",
       "      <th></th>\n",
       "      <th></th>\n",
       "      <th></th>\n",
       "      <th></th>\n",
       "      <th></th>\n",
       "    </tr>\n",
       "  </thead>\n",
       "  <tbody>\n",
       "    <tr>\n",
       "      <th>LoanID_2</th>\n",
       "      <td>2</td>\n",
       "      <td>Product D</td>\n",
       "      <td>Female</td>\n",
       "      <td>Location 6</td>\n",
       "      <td>Region 6</td>\n",
       "      <td>NaN</td>\n",
       "      <td>02/01/2019</td>\n",
       "      <td>2200</td>\n",
       "      <td>45</td>\n",
       "      <td>365</td>\n",
       "      <td>3161</td>\n",
       "      <td>4096</td>\n",
       "      <td>16041</td>\n",
       "      <td>Active</td>\n",
       "    </tr>\n",
       "    <tr>\n",
       "      <th>LoanID_4</th>\n",
       "      <td>4</td>\n",
       "      <td>Product A</td>\n",
       "      <td>Male</td>\n",
       "      <td>Location 26</td>\n",
       "      <td>Region 2</td>\n",
       "      <td>17600.0</td>\n",
       "      <td>NaN</td>\n",
       "      <td>2200</td>\n",
       "      <td>45</td>\n",
       "      <td>365</td>\n",
       "      <td>3141</td>\n",
       "      <td>4166</td>\n",
       "      <td>16321</td>\n",
       "      <td>Active</td>\n",
       "    </tr>\n",
       "  </tbody>\n",
       "</table>\n",
       "</div>"
      ],
      "text/plain": [
       "          LoanID    Product CustomerGender     Location    Region  TotalPrice  \\\n",
       "StringID                                                                        \n",
       "LoanID_2       2  Product D         Female   Location 6  Region 6         NaN   \n",
       "LoanID_4       4  Product A           Male  Location 26  Region 2     17600.0   \n",
       "\n",
       "           StartDate  Deposit  DailyRate  TotalDaysYr  AmtPaid36  AmtPaid60  \\\n",
       "StringID                                                                      \n",
       "LoanID_2  02/01/2019     2200         45          365       3161       4096   \n",
       "LoanID_4         NaN     2200         45          365       3141       4166   \n",
       "\n",
       "          AmtPaid360 LoanStatus  \n",
       "StringID                         \n",
       "LoanID_2       16041     Active  \n",
       "LoanID_4       16321     Active  "
      ]
     },
     "execution_count": 43,
     "metadata": {},
     "output_type": "execute_result"
    }
   ],
   "source": [
    "lending_co_data.iloc[[1, 3], :]"
   ]
  },
  {
   "cell_type": "code",
   "execution_count": 44,
   "metadata": {},
   "outputs": [
    {
     "data": {
      "text/html": [
       "<div>\n",
       "<style scoped>\n",
       "    .dataframe tbody tr th:only-of-type {\n",
       "        vertical-align: middle;\n",
       "    }\n",
       "\n",
       "    .dataframe tbody tr th {\n",
       "        vertical-align: top;\n",
       "    }\n",
       "\n",
       "    .dataframe thead th {\n",
       "        text-align: right;\n",
       "    }\n",
       "</style>\n",
       "<table border=\"1\" class=\"dataframe\">\n",
       "  <thead>\n",
       "    <tr style=\"text-align: right;\">\n",
       "      <th></th>\n",
       "      <th>Location</th>\n",
       "      <th>Product</th>\n",
       "    </tr>\n",
       "    <tr>\n",
       "      <th>StringID</th>\n",
       "      <th></th>\n",
       "      <th></th>\n",
       "    </tr>\n",
       "  </thead>\n",
       "  <tbody>\n",
       "    <tr>\n",
       "      <th>LoanID_1</th>\n",
       "      <td>Location 3</td>\n",
       "      <td>Product B</td>\n",
       "    </tr>\n",
       "    <tr>\n",
       "      <th>LoanID_2</th>\n",
       "      <td>Location 6</td>\n",
       "      <td>Product D</td>\n",
       "    </tr>\n",
       "    <tr>\n",
       "      <th>LoanID_3</th>\n",
       "      <td>Location 8</td>\n",
       "      <td>Product B</td>\n",
       "    </tr>\n",
       "    <tr>\n",
       "      <th>LoanID_4</th>\n",
       "      <td>Location 26</td>\n",
       "      <td>Product A</td>\n",
       "    </tr>\n",
       "    <tr>\n",
       "      <th>LoanID_5</th>\n",
       "      <td>Location 34</td>\n",
       "      <td>Product B</td>\n",
       "    </tr>\n",
       "    <tr>\n",
       "      <th>...</th>\n",
       "      <td>...</td>\n",
       "      <td>...</td>\n",
       "    </tr>\n",
       "    <tr>\n",
       "      <th>LoanID_1039</th>\n",
       "      <td>Location 73</td>\n",
       "      <td>Product B</td>\n",
       "    </tr>\n",
       "    <tr>\n",
       "      <th>LoanID_1040</th>\n",
       "      <td>Location 82</td>\n",
       "      <td>Product A</td>\n",
       "    </tr>\n",
       "    <tr>\n",
       "      <th>LoanID_1041</th>\n",
       "      <td>Location 11</td>\n",
       "      <td>Product A</td>\n",
       "    </tr>\n",
       "    <tr>\n",
       "      <th>LoanID_1042</th>\n",
       "      <td>Location 26</td>\n",
       "      <td>Product B</td>\n",
       "    </tr>\n",
       "    <tr>\n",
       "      <th>LoanID_1043</th>\n",
       "      <td>Location 94</td>\n",
       "      <td>Product A</td>\n",
       "    </tr>\n",
       "  </tbody>\n",
       "</table>\n",
       "<p>1043 rows × 2 columns</p>\n",
       "</div>"
      ],
      "text/plain": [
       "                Location    Product\n",
       "StringID                           \n",
       "LoanID_1      Location 3  Product B\n",
       "LoanID_2      Location 6  Product D\n",
       "LoanID_3      Location 8  Product B\n",
       "LoanID_4     Location 26  Product A\n",
       "LoanID_5     Location 34  Product B\n",
       "...                  ...        ...\n",
       "LoanID_1039  Location 73  Product B\n",
       "LoanID_1040  Location 82  Product A\n",
       "LoanID_1041  Location 11  Product A\n",
       "LoanID_1042  Location 26  Product B\n",
       "LoanID_1043  Location 94  Product A\n",
       "\n",
       "[1043 rows x 2 columns]"
      ]
     },
     "execution_count": 44,
     "metadata": {},
     "output_type": "execute_result"
    }
   ],
   "source": [
    "lending_co_data.iloc[:, [3, 1]]"
   ]
  },
  {
   "cell_type": "markdown",
   "metadata": {},
   "source": [
    "## pandas DataFrames - Indexing with .loc[]"
   ]
  },
  {
   "cell_type": "code",
   "execution_count": 45,
   "metadata": {},
   "outputs": [],
   "source": [
    "import pandas as pd"
   ]
  },
  {
   "cell_type": "code",
   "execution_count": 46,
   "metadata": {
    "scrolled": true
   },
   "outputs": [
    {
     "data": {
      "text/html": [
       "<div>\n",
       "<style scoped>\n",
       "    .dataframe tbody tr th:only-of-type {\n",
       "        vertical-align: middle;\n",
       "    }\n",
       "\n",
       "    .dataframe tbody tr th {\n",
       "        vertical-align: top;\n",
       "    }\n",
       "\n",
       "    .dataframe thead th {\n",
       "        text-align: right;\n",
       "    }\n",
       "</style>\n",
       "<table border=\"1\" class=\"dataframe\">\n",
       "  <thead>\n",
       "    <tr style=\"text-align: right;\">\n",
       "      <th></th>\n",
       "      <th>LoanID</th>\n",
       "      <th>Product</th>\n",
       "      <th>CustomerGender</th>\n",
       "      <th>Location</th>\n",
       "      <th>Region</th>\n",
       "      <th>TotalPrice</th>\n",
       "      <th>StartDate</th>\n",
       "      <th>Deposit</th>\n",
       "      <th>DailyRate</th>\n",
       "      <th>TotalDaysYr</th>\n",
       "      <th>AmtPaid36</th>\n",
       "      <th>AmtPaid60</th>\n",
       "      <th>AmtPaid360</th>\n",
       "      <th>LoanStatus</th>\n",
       "    </tr>\n",
       "    <tr>\n",
       "      <th>StringID</th>\n",
       "      <th></th>\n",
       "      <th></th>\n",
       "      <th></th>\n",
       "      <th></th>\n",
       "      <th></th>\n",
       "      <th></th>\n",
       "      <th></th>\n",
       "      <th></th>\n",
       "      <th></th>\n",
       "      <th></th>\n",
       "      <th></th>\n",
       "      <th></th>\n",
       "      <th></th>\n",
       "      <th></th>\n",
       "    </tr>\n",
       "  </thead>\n",
       "  <tbody>\n",
       "    <tr>\n",
       "      <th>LoanID_1</th>\n",
       "      <td>1</td>\n",
       "      <td>Product B</td>\n",
       "      <td>Female</td>\n",
       "      <td>Location 3</td>\n",
       "      <td>Region 2</td>\n",
       "      <td>17600.0</td>\n",
       "      <td>04/07/2018</td>\n",
       "      <td>2200</td>\n",
       "      <td>45</td>\n",
       "      <td>365</td>\n",
       "      <td>3221</td>\n",
       "      <td>4166</td>\n",
       "      <td>14621</td>\n",
       "      <td>Active</td>\n",
       "    </tr>\n",
       "    <tr>\n",
       "      <th>LoanID_2</th>\n",
       "      <td>2</td>\n",
       "      <td>Product D</td>\n",
       "      <td>Female</td>\n",
       "      <td>Location 6</td>\n",
       "      <td>Region 6</td>\n",
       "      <td>NaN</td>\n",
       "      <td>02/01/2019</td>\n",
       "      <td>2200</td>\n",
       "      <td>45</td>\n",
       "      <td>365</td>\n",
       "      <td>3161</td>\n",
       "      <td>4096</td>\n",
       "      <td>16041</td>\n",
       "      <td>Active</td>\n",
       "    </tr>\n",
       "    <tr>\n",
       "      <th>LoanID_3</th>\n",
       "      <td>3</td>\n",
       "      <td>Product B</td>\n",
       "      <td>Male</td>\n",
       "      <td>Location 8</td>\n",
       "      <td>Region 3</td>\n",
       "      <td>16600.0</td>\n",
       "      <td>08/12/2016</td>\n",
       "      <td>1000</td>\n",
       "      <td>45</td>\n",
       "      <td>365</td>\n",
       "      <td>2260</td>\n",
       "      <td>3205</td>\n",
       "      <td>16340</td>\n",
       "      <td>NaN</td>\n",
       "    </tr>\n",
       "    <tr>\n",
       "      <th>LoanID_4</th>\n",
       "      <td>4</td>\n",
       "      <td>Product A</td>\n",
       "      <td>Male</td>\n",
       "      <td>Location 26</td>\n",
       "      <td>Region 2</td>\n",
       "      <td>17600.0</td>\n",
       "      <td>NaN</td>\n",
       "      <td>2200</td>\n",
       "      <td>45</td>\n",
       "      <td>365</td>\n",
       "      <td>3141</td>\n",
       "      <td>4166</td>\n",
       "      <td>16321</td>\n",
       "      <td>Active</td>\n",
       "    </tr>\n",
       "    <tr>\n",
       "      <th>LoanID_5</th>\n",
       "      <td>5</td>\n",
       "      <td>Product B</td>\n",
       "      <td>Female</td>\n",
       "      <td>Location 34</td>\n",
       "      <td>Region 3</td>\n",
       "      <td>21250.0</td>\n",
       "      <td>28/10/2017</td>\n",
       "      <td>2200</td>\n",
       "      <td>55</td>\n",
       "      <td>365</td>\n",
       "      <td>3570</td>\n",
       "      <td>4745</td>\n",
       "      <td>14720</td>\n",
       "      <td>Active</td>\n",
       "    </tr>\n",
       "    <tr>\n",
       "      <th>...</th>\n",
       "      <td>...</td>\n",
       "      <td>...</td>\n",
       "      <td>...</td>\n",
       "      <td>...</td>\n",
       "      <td>...</td>\n",
       "      <td>...</td>\n",
       "      <td>...</td>\n",
       "      <td>...</td>\n",
       "      <td>...</td>\n",
       "      <td>...</td>\n",
       "      <td>...</td>\n",
       "      <td>...</td>\n",
       "      <td>...</td>\n",
       "      <td>...</td>\n",
       "    </tr>\n",
       "    <tr>\n",
       "      <th>LoanID_1039</th>\n",
       "      <td>1039</td>\n",
       "      <td>Product B</td>\n",
       "      <td>Male</td>\n",
       "      <td>Location 73</td>\n",
       "      <td>Region 6</td>\n",
       "      <td>17300.0</td>\n",
       "      <td>29/12/2018</td>\n",
       "      <td>2200</td>\n",
       "      <td>45</td>\n",
       "      <td>365</td>\n",
       "      <td>3251</td>\n",
       "      <td>4743</td>\n",
       "      <td>16617</td>\n",
       "      <td>Finished Payment</td>\n",
       "    </tr>\n",
       "    <tr>\n",
       "      <th>LoanID_1040</th>\n",
       "      <td>1040</td>\n",
       "      <td>Product A</td>\n",
       "      <td>Male</td>\n",
       "      <td>Location 82</td>\n",
       "      <td>Region 1</td>\n",
       "      <td>NaN</td>\n",
       "      <td>28/03/2018</td>\n",
       "      <td>2200</td>\n",
       "      <td>45</td>\n",
       "      <td>365</td>\n",
       "      <td>4090</td>\n",
       "      <td>5582</td>\n",
       "      <td>16617</td>\n",
       "      <td>Finished Payment</td>\n",
       "    </tr>\n",
       "    <tr>\n",
       "      <th>LoanID_1041</th>\n",
       "      <td>1041</td>\n",
       "      <td>Product A</td>\n",
       "      <td>NotSpecified</td>\n",
       "      <td>Location 11</td>\n",
       "      <td>Region 4</td>\n",
       "      <td>17300.0</td>\n",
       "      <td>26/04/2018</td>\n",
       "      <td>2200</td>\n",
       "      <td>45</td>\n",
       "      <td>365</td>\n",
       "      <td>4051</td>\n",
       "      <td>5143</td>\n",
       "      <td>16617</td>\n",
       "      <td>Finished Payment</td>\n",
       "    </tr>\n",
       "    <tr>\n",
       "      <th>LoanID_1042</th>\n",
       "      <td>1042</td>\n",
       "      <td>Product B</td>\n",
       "      <td>Female</td>\n",
       "      <td>Location 26</td>\n",
       "      <td>Region 6</td>\n",
       "      <td>16300.0</td>\n",
       "      <td>25/10/2016</td>\n",
       "      <td>1000</td>\n",
       "      <td>45</td>\n",
       "      <td>365</td>\n",
       "      <td>1930</td>\n",
       "      <td>3462</td>\n",
       "      <td>15617</td>\n",
       "      <td>Finished Payment</td>\n",
       "    </tr>\n",
       "    <tr>\n",
       "      <th>LoanID_1043</th>\n",
       "      <td>1043</td>\n",
       "      <td>Product A</td>\n",
       "      <td>NotSpecified</td>\n",
       "      <td>Location 94</td>\n",
       "      <td>Region 6</td>\n",
       "      <td>17300.0</td>\n",
       "      <td>15/05/2019</td>\n",
       "      <td>2200</td>\n",
       "      <td>45</td>\n",
       "      <td>365</td>\n",
       "      <td>4451</td>\n",
       "      <td>4743</td>\n",
       "      <td>16617</td>\n",
       "      <td>Finished Payment</td>\n",
       "    </tr>\n",
       "  </tbody>\n",
       "</table>\n",
       "<p>1043 rows × 14 columns</p>\n",
       "</div>"
      ],
      "text/plain": [
       "             LoanID    Product CustomerGender     Location    Region  \\\n",
       "StringID                                                               \n",
       "LoanID_1          1  Product B         Female   Location 3  Region 2   \n",
       "LoanID_2          2  Product D         Female   Location 6  Region 6   \n",
       "LoanID_3          3  Product B           Male   Location 8  Region 3   \n",
       "LoanID_4          4  Product A           Male  Location 26  Region 2   \n",
       "LoanID_5          5  Product B         Female  Location 34  Region 3   \n",
       "...             ...        ...            ...          ...       ...   \n",
       "LoanID_1039    1039  Product B           Male  Location 73  Region 6   \n",
       "LoanID_1040    1040  Product A           Male  Location 82  Region 1   \n",
       "LoanID_1041    1041  Product A   NotSpecified  Location 11  Region 4   \n",
       "LoanID_1042    1042  Product B         Female  Location 26  Region 6   \n",
       "LoanID_1043    1043  Product A   NotSpecified  Location 94  Region 6   \n",
       "\n",
       "             TotalPrice   StartDate  Deposit  DailyRate  TotalDaysYr  \\\n",
       "StringID                                                               \n",
       "LoanID_1        17600.0  04/07/2018     2200         45          365   \n",
       "LoanID_2            NaN  02/01/2019     2200         45          365   \n",
       "LoanID_3        16600.0  08/12/2016     1000         45          365   \n",
       "LoanID_4        17600.0         NaN     2200         45          365   \n",
       "LoanID_5        21250.0  28/10/2017     2200         55          365   \n",
       "...                 ...         ...      ...        ...          ...   \n",
       "LoanID_1039     17300.0  29/12/2018     2200         45          365   \n",
       "LoanID_1040         NaN  28/03/2018     2200         45          365   \n",
       "LoanID_1041     17300.0  26/04/2018     2200         45          365   \n",
       "LoanID_1042     16300.0  25/10/2016     1000         45          365   \n",
       "LoanID_1043     17300.0  15/05/2019     2200         45          365   \n",
       "\n",
       "             AmtPaid36  AmtPaid60  AmtPaid360        LoanStatus  \n",
       "StringID                                                         \n",
       "LoanID_1          3221       4166       14621            Active  \n",
       "LoanID_2          3161       4096       16041            Active  \n",
       "LoanID_3          2260       3205       16340               NaN  \n",
       "LoanID_4          3141       4166       16321            Active  \n",
       "LoanID_5          3570       4745       14720            Active  \n",
       "...                ...        ...         ...               ...  \n",
       "LoanID_1039       3251       4743       16617  Finished Payment  \n",
       "LoanID_1040       4090       5582       16617  Finished Payment  \n",
       "LoanID_1041       4051       5143       16617  Finished Payment  \n",
       "LoanID_1042       1930       3462       15617  Finished Payment  \n",
       "LoanID_1043       4451       4743       16617  Finished Payment  \n",
       "\n",
       "[1043 rows x 14 columns]"
      ]
     },
     "execution_count": 46,
     "metadata": {},
     "output_type": "execute_result"
    }
   ],
   "source": [
    "data = pd.read_csv('Lending-company.csv', index_col = 'StringID')\n",
    "lending_co_data = data.copy()\n",
    "lending_co_data"
   ]
  },
  {
   "cell_type": "code",
   "execution_count": 47,
   "metadata": {},
   "outputs": [
    {
     "data": {
      "text/plain": [
       "LoanID                     3\n",
       "Product            Product B\n",
       "CustomerGender          Male\n",
       "Location          Location 8\n",
       "Region              Region 3\n",
       "TotalPrice             16600\n",
       "StartDate         08/12/2016\n",
       "Deposit                 1000\n",
       "DailyRate                 45\n",
       "TotalDaysYr              365\n",
       "AmtPaid36               2260\n",
       "AmtPaid60               3205\n",
       "AmtPaid360             16340\n",
       "LoanStatus               NaN\n",
       "Name: LoanID_3, dtype: object"
      ]
     },
     "execution_count": 47,
     "metadata": {},
     "output_type": "execute_result"
    }
   ],
   "source": [
    "lending_co_data.loc['LoanID_3']"
   ]
  },
  {
   "cell_type": "code",
   "execution_count": 48,
   "metadata": {},
   "outputs": [
    {
     "data": {
      "text/plain": [
       "LoanID                     3\n",
       "Product            Product B\n",
       "CustomerGender          Male\n",
       "Location          Location 8\n",
       "Region              Region 3\n",
       "TotalPrice             16600\n",
       "StartDate         08/12/2016\n",
       "Deposit                 1000\n",
       "DailyRate                 45\n",
       "TotalDaysYr              365\n",
       "AmtPaid36               2260\n",
       "AmtPaid60               3205\n",
       "AmtPaid360             16340\n",
       "LoanStatus               NaN\n",
       "Name: LoanID_3, dtype: object"
      ]
     },
     "execution_count": 48,
     "metadata": {},
     "output_type": "execute_result"
    }
   ],
   "source": [
    "lending_co_data.loc['LoanID_3', :]"
   ]
  },
  {
   "cell_type": "code",
   "execution_count": 49,
   "metadata": {},
   "outputs": [
    {
     "data": {
      "text/plain": [
       "'Region 3'"
      ]
     },
     "execution_count": 49,
     "metadata": {},
     "output_type": "execute_result"
    }
   ],
   "source": [
    "lending_co_data.loc['LoanID_3', 'Region']"
   ]
  },
  {
   "cell_type": "code",
   "execution_count": 50,
   "metadata": {},
   "outputs": [
    {
     "data": {
      "text/plain": [
       "StringID\n",
       "LoanID_1        Location 3\n",
       "LoanID_2        Location 6\n",
       "LoanID_3        Location 8\n",
       "LoanID_4       Location 26\n",
       "LoanID_5       Location 34\n",
       "                  ...     \n",
       "LoanID_1039    Location 73\n",
       "LoanID_1040    Location 82\n",
       "LoanID_1041    Location 11\n",
       "LoanID_1042    Location 26\n",
       "LoanID_1043    Location 94\n",
       "Name: Location, Length: 1043, dtype: object"
      ]
     },
     "execution_count": 50,
     "metadata": {},
     "output_type": "execute_result"
    }
   ],
   "source": [
    "lending_co_data['Location']"
   ]
  },
  {
   "cell_type": "code",
   "execution_count": 51,
   "metadata": {},
   "outputs": [
    {
     "ename": "KeyError",
     "evalue": "'Location'",
     "output_type": "error",
     "traceback": [
      "\u001b[1;31m---------------------------------------------------------------------------\u001b[0m",
      "\u001b[1;31mKeyError\u001b[0m                                  Traceback (most recent call last)",
      "\u001b[1;32m~\\anaconda3\\lib\\site-packages\\pandas\\core\\indexes\\base.py\u001b[0m in \u001b[0;36mget_loc\u001b[1;34m(self, key, method, tolerance)\u001b[0m\n\u001b[0;32m   2645\u001b[0m             \u001b[1;32mtry\u001b[0m\u001b[1;33m:\u001b[0m\u001b[1;33m\u001b[0m\u001b[1;33m\u001b[0m\u001b[0m\n\u001b[1;32m-> 2646\u001b[1;33m                 \u001b[1;32mreturn\u001b[0m \u001b[0mself\u001b[0m\u001b[1;33m.\u001b[0m\u001b[0m_engine\u001b[0m\u001b[1;33m.\u001b[0m\u001b[0mget_loc\u001b[0m\u001b[1;33m(\u001b[0m\u001b[0mkey\u001b[0m\u001b[1;33m)\u001b[0m\u001b[1;33m\u001b[0m\u001b[1;33m\u001b[0m\u001b[0m\n\u001b[0m\u001b[0;32m   2647\u001b[0m             \u001b[1;32mexcept\u001b[0m \u001b[0mKeyError\u001b[0m\u001b[1;33m:\u001b[0m\u001b[1;33m\u001b[0m\u001b[1;33m\u001b[0m\u001b[0m\n",
      "\u001b[1;32mpandas\\_libs\\index.pyx\u001b[0m in \u001b[0;36mpandas._libs.index.IndexEngine.get_loc\u001b[1;34m()\u001b[0m\n",
      "\u001b[1;32mpandas\\_libs\\index.pyx\u001b[0m in \u001b[0;36mpandas._libs.index.IndexEngine.get_loc\u001b[1;34m()\u001b[0m\n",
      "\u001b[1;32mpandas\\_libs\\hashtable_class_helper.pxi\u001b[0m in \u001b[0;36mpandas._libs.hashtable.PyObjectHashTable.get_item\u001b[1;34m()\u001b[0m\n",
      "\u001b[1;32mpandas\\_libs\\hashtable_class_helper.pxi\u001b[0m in \u001b[0;36mpandas._libs.hashtable.PyObjectHashTable.get_item\u001b[1;34m()\u001b[0m\n",
      "\u001b[1;31mKeyError\u001b[0m: 'Location'",
      "\nDuring handling of the above exception, another exception occurred:\n",
      "\u001b[1;31mKeyError\u001b[0m                                  Traceback (most recent call last)",
      "\u001b[1;32m<ipython-input-51-4298b21ee28e>\u001b[0m in \u001b[0;36m<module>\u001b[1;34m\u001b[0m\n\u001b[1;32m----> 1\u001b[1;33m \u001b[0mlending_co_data\u001b[0m\u001b[1;33m.\u001b[0m\u001b[0mloc\u001b[0m\u001b[1;33m[\u001b[0m\u001b[1;34m'Location'\u001b[0m\u001b[1;33m]\u001b[0m\u001b[1;33m\u001b[0m\u001b[1;33m\u001b[0m\u001b[0m\n\u001b[0m",
      "\u001b[1;32m~\\anaconda3\\lib\\site-packages\\pandas\\core\\indexing.py\u001b[0m in \u001b[0;36m__getitem__\u001b[1;34m(self, key)\u001b[0m\n\u001b[0;32m   1766\u001b[0m \u001b[1;33m\u001b[0m\u001b[0m\n\u001b[0;32m   1767\u001b[0m             \u001b[0mmaybe_callable\u001b[0m \u001b[1;33m=\u001b[0m \u001b[0mcom\u001b[0m\u001b[1;33m.\u001b[0m\u001b[0mapply_if_callable\u001b[0m\u001b[1;33m(\u001b[0m\u001b[0mkey\u001b[0m\u001b[1;33m,\u001b[0m \u001b[0mself\u001b[0m\u001b[1;33m.\u001b[0m\u001b[0mobj\u001b[0m\u001b[1;33m)\u001b[0m\u001b[1;33m\u001b[0m\u001b[1;33m\u001b[0m\u001b[0m\n\u001b[1;32m-> 1768\u001b[1;33m             \u001b[1;32mreturn\u001b[0m \u001b[0mself\u001b[0m\u001b[1;33m.\u001b[0m\u001b[0m_getitem_axis\u001b[0m\u001b[1;33m(\u001b[0m\u001b[0mmaybe_callable\u001b[0m\u001b[1;33m,\u001b[0m \u001b[0maxis\u001b[0m\u001b[1;33m=\u001b[0m\u001b[0maxis\u001b[0m\u001b[1;33m)\u001b[0m\u001b[1;33m\u001b[0m\u001b[1;33m\u001b[0m\u001b[0m\n\u001b[0m\u001b[0;32m   1769\u001b[0m \u001b[1;33m\u001b[0m\u001b[0m\n\u001b[0;32m   1770\u001b[0m     \u001b[1;32mdef\u001b[0m \u001b[0m_is_scalar_access\u001b[0m\u001b[1;33m(\u001b[0m\u001b[0mself\u001b[0m\u001b[1;33m,\u001b[0m \u001b[0mkey\u001b[0m\u001b[1;33m:\u001b[0m \u001b[0mTuple\u001b[0m\u001b[1;33m)\u001b[0m\u001b[1;33m:\u001b[0m\u001b[1;33m\u001b[0m\u001b[1;33m\u001b[0m\u001b[0m\n",
      "\u001b[1;32m~\\anaconda3\\lib\\site-packages\\pandas\\core\\indexing.py\u001b[0m in \u001b[0;36m_getitem_axis\u001b[1;34m(self, key, axis)\u001b[0m\n\u001b[0;32m   1963\u001b[0m         \u001b[1;31m# fall thru to straight lookup\u001b[0m\u001b[1;33m\u001b[0m\u001b[1;33m\u001b[0m\u001b[1;33m\u001b[0m\u001b[0m\n\u001b[0;32m   1964\u001b[0m         \u001b[0mself\u001b[0m\u001b[1;33m.\u001b[0m\u001b[0m_validate_key\u001b[0m\u001b[1;33m(\u001b[0m\u001b[0mkey\u001b[0m\u001b[1;33m,\u001b[0m \u001b[0maxis\u001b[0m\u001b[1;33m)\u001b[0m\u001b[1;33m\u001b[0m\u001b[1;33m\u001b[0m\u001b[0m\n\u001b[1;32m-> 1965\u001b[1;33m         \u001b[1;32mreturn\u001b[0m \u001b[0mself\u001b[0m\u001b[1;33m.\u001b[0m\u001b[0m_get_label\u001b[0m\u001b[1;33m(\u001b[0m\u001b[0mkey\u001b[0m\u001b[1;33m,\u001b[0m \u001b[0maxis\u001b[0m\u001b[1;33m=\u001b[0m\u001b[0maxis\u001b[0m\u001b[1;33m)\u001b[0m\u001b[1;33m\u001b[0m\u001b[1;33m\u001b[0m\u001b[0m\n\u001b[0m\u001b[0;32m   1966\u001b[0m \u001b[1;33m\u001b[0m\u001b[0m\n\u001b[0;32m   1967\u001b[0m \u001b[1;33m\u001b[0m\u001b[0m\n",
      "\u001b[1;32m~\\anaconda3\\lib\\site-packages\\pandas\\core\\indexing.py\u001b[0m in \u001b[0;36m_get_label\u001b[1;34m(self, label, axis)\u001b[0m\n\u001b[0;32m    623\u001b[0m             \u001b[1;32mraise\u001b[0m \u001b[0mIndexingError\u001b[0m\u001b[1;33m(\u001b[0m\u001b[1;34m\"no slices here, handle elsewhere\"\u001b[0m\u001b[1;33m)\u001b[0m\u001b[1;33m\u001b[0m\u001b[1;33m\u001b[0m\u001b[0m\n\u001b[0;32m    624\u001b[0m \u001b[1;33m\u001b[0m\u001b[0m\n\u001b[1;32m--> 625\u001b[1;33m         \u001b[1;32mreturn\u001b[0m \u001b[0mself\u001b[0m\u001b[1;33m.\u001b[0m\u001b[0mobj\u001b[0m\u001b[1;33m.\u001b[0m\u001b[0m_xs\u001b[0m\u001b[1;33m(\u001b[0m\u001b[0mlabel\u001b[0m\u001b[1;33m,\u001b[0m \u001b[0maxis\u001b[0m\u001b[1;33m=\u001b[0m\u001b[0maxis\u001b[0m\u001b[1;33m)\u001b[0m\u001b[1;33m\u001b[0m\u001b[1;33m\u001b[0m\u001b[0m\n\u001b[0m\u001b[0;32m    626\u001b[0m \u001b[1;33m\u001b[0m\u001b[0m\n\u001b[0;32m    627\u001b[0m     \u001b[1;32mdef\u001b[0m \u001b[0m_get_loc\u001b[0m\u001b[1;33m(\u001b[0m\u001b[0mself\u001b[0m\u001b[1;33m,\u001b[0m \u001b[0mkey\u001b[0m\u001b[1;33m:\u001b[0m \u001b[0mint\u001b[0m\u001b[1;33m,\u001b[0m \u001b[0maxis\u001b[0m\u001b[1;33m:\u001b[0m \u001b[0mint\u001b[0m\u001b[1;33m)\u001b[0m\u001b[1;33m:\u001b[0m\u001b[1;33m\u001b[0m\u001b[1;33m\u001b[0m\u001b[0m\n",
      "\u001b[1;32m~\\anaconda3\\lib\\site-packages\\pandas\\core\\generic.py\u001b[0m in \u001b[0;36mxs\u001b[1;34m(self, key, axis, level, drop_level)\u001b[0m\n\u001b[0;32m   3535\u001b[0m             \u001b[0mloc\u001b[0m\u001b[1;33m,\u001b[0m \u001b[0mnew_index\u001b[0m \u001b[1;33m=\u001b[0m \u001b[0mself\u001b[0m\u001b[1;33m.\u001b[0m\u001b[0mindex\u001b[0m\u001b[1;33m.\u001b[0m\u001b[0mget_loc_level\u001b[0m\u001b[1;33m(\u001b[0m\u001b[0mkey\u001b[0m\u001b[1;33m,\u001b[0m \u001b[0mdrop_level\u001b[0m\u001b[1;33m=\u001b[0m\u001b[0mdrop_level\u001b[0m\u001b[1;33m)\u001b[0m\u001b[1;33m\u001b[0m\u001b[1;33m\u001b[0m\u001b[0m\n\u001b[0;32m   3536\u001b[0m         \u001b[1;32melse\u001b[0m\u001b[1;33m:\u001b[0m\u001b[1;33m\u001b[0m\u001b[1;33m\u001b[0m\u001b[0m\n\u001b[1;32m-> 3537\u001b[1;33m             \u001b[0mloc\u001b[0m \u001b[1;33m=\u001b[0m \u001b[0mself\u001b[0m\u001b[1;33m.\u001b[0m\u001b[0mindex\u001b[0m\u001b[1;33m.\u001b[0m\u001b[0mget_loc\u001b[0m\u001b[1;33m(\u001b[0m\u001b[0mkey\u001b[0m\u001b[1;33m)\u001b[0m\u001b[1;33m\u001b[0m\u001b[1;33m\u001b[0m\u001b[0m\n\u001b[0m\u001b[0;32m   3538\u001b[0m \u001b[1;33m\u001b[0m\u001b[0m\n\u001b[0;32m   3539\u001b[0m             \u001b[1;32mif\u001b[0m \u001b[0misinstance\u001b[0m\u001b[1;33m(\u001b[0m\u001b[0mloc\u001b[0m\u001b[1;33m,\u001b[0m \u001b[0mnp\u001b[0m\u001b[1;33m.\u001b[0m\u001b[0mndarray\u001b[0m\u001b[1;33m)\u001b[0m\u001b[1;33m:\u001b[0m\u001b[1;33m\u001b[0m\u001b[1;33m\u001b[0m\u001b[0m\n",
      "\u001b[1;32m~\\anaconda3\\lib\\site-packages\\pandas\\core\\indexes\\base.py\u001b[0m in \u001b[0;36mget_loc\u001b[1;34m(self, key, method, tolerance)\u001b[0m\n\u001b[0;32m   2646\u001b[0m                 \u001b[1;32mreturn\u001b[0m \u001b[0mself\u001b[0m\u001b[1;33m.\u001b[0m\u001b[0m_engine\u001b[0m\u001b[1;33m.\u001b[0m\u001b[0mget_loc\u001b[0m\u001b[1;33m(\u001b[0m\u001b[0mkey\u001b[0m\u001b[1;33m)\u001b[0m\u001b[1;33m\u001b[0m\u001b[1;33m\u001b[0m\u001b[0m\n\u001b[0;32m   2647\u001b[0m             \u001b[1;32mexcept\u001b[0m \u001b[0mKeyError\u001b[0m\u001b[1;33m:\u001b[0m\u001b[1;33m\u001b[0m\u001b[1;33m\u001b[0m\u001b[0m\n\u001b[1;32m-> 2648\u001b[1;33m                 \u001b[1;32mreturn\u001b[0m \u001b[0mself\u001b[0m\u001b[1;33m.\u001b[0m\u001b[0m_engine\u001b[0m\u001b[1;33m.\u001b[0m\u001b[0mget_loc\u001b[0m\u001b[1;33m(\u001b[0m\u001b[0mself\u001b[0m\u001b[1;33m.\u001b[0m\u001b[0m_maybe_cast_indexer\u001b[0m\u001b[1;33m(\u001b[0m\u001b[0mkey\u001b[0m\u001b[1;33m)\u001b[0m\u001b[1;33m)\u001b[0m\u001b[1;33m\u001b[0m\u001b[1;33m\u001b[0m\u001b[0m\n\u001b[0m\u001b[0;32m   2649\u001b[0m         \u001b[0mindexer\u001b[0m \u001b[1;33m=\u001b[0m \u001b[0mself\u001b[0m\u001b[1;33m.\u001b[0m\u001b[0mget_indexer\u001b[0m\u001b[1;33m(\u001b[0m\u001b[1;33m[\u001b[0m\u001b[0mkey\u001b[0m\u001b[1;33m]\u001b[0m\u001b[1;33m,\u001b[0m \u001b[0mmethod\u001b[0m\u001b[1;33m=\u001b[0m\u001b[0mmethod\u001b[0m\u001b[1;33m,\u001b[0m \u001b[0mtolerance\u001b[0m\u001b[1;33m=\u001b[0m\u001b[0mtolerance\u001b[0m\u001b[1;33m)\u001b[0m\u001b[1;33m\u001b[0m\u001b[1;33m\u001b[0m\u001b[0m\n\u001b[0;32m   2650\u001b[0m         \u001b[1;32mif\u001b[0m \u001b[0mindexer\u001b[0m\u001b[1;33m.\u001b[0m\u001b[0mndim\u001b[0m \u001b[1;33m>\u001b[0m \u001b[1;36m1\u001b[0m \u001b[1;32mor\u001b[0m \u001b[0mindexer\u001b[0m\u001b[1;33m.\u001b[0m\u001b[0msize\u001b[0m \u001b[1;33m>\u001b[0m \u001b[1;36m1\u001b[0m\u001b[1;33m:\u001b[0m\u001b[1;33m\u001b[0m\u001b[1;33m\u001b[0m\u001b[0m\n",
      "\u001b[1;32mpandas\\_libs\\index.pyx\u001b[0m in \u001b[0;36mpandas._libs.index.IndexEngine.get_loc\u001b[1;34m()\u001b[0m\n",
      "\u001b[1;32mpandas\\_libs\\index.pyx\u001b[0m in \u001b[0;36mpandas._libs.index.IndexEngine.get_loc\u001b[1;34m()\u001b[0m\n",
      "\u001b[1;32mpandas\\_libs\\hashtable_class_helper.pxi\u001b[0m in \u001b[0;36mpandas._libs.hashtable.PyObjectHashTable.get_item\u001b[1;34m()\u001b[0m\n",
      "\u001b[1;32mpandas\\_libs\\hashtable_class_helper.pxi\u001b[0m in \u001b[0;36mpandas._libs.hashtable.PyObjectHashTable.get_item\u001b[1;34m()\u001b[0m\n",
      "\u001b[1;31mKeyError\u001b[0m: 'Location'"
     ]
    }
   ],
   "source": [
    "lending_co_data.loc['Location']"
   ]
  },
  {
   "cell_type": "code",
   "execution_count": 52,
   "metadata": {},
   "outputs": [
    {
     "data": {
      "text/plain": [
       "StringID\n",
       "LoanID_1        Location 3\n",
       "LoanID_2        Location 6\n",
       "LoanID_3        Location 8\n",
       "LoanID_4       Location 26\n",
       "LoanID_5       Location 34\n",
       "                  ...     \n",
       "LoanID_1039    Location 73\n",
       "LoanID_1040    Location 82\n",
       "LoanID_1041    Location 11\n",
       "LoanID_1042    Location 26\n",
       "LoanID_1043    Location 94\n",
       "Name: Location, Length: 1043, dtype: object"
      ]
     },
     "execution_count": 52,
     "metadata": {},
     "output_type": "execute_result"
    }
   ],
   "source": [
    "lending_co_data.loc[:, 'Location']"
   ]
  },
  {
   "cell_type": "code",
   "execution_count": 53,
   "metadata": {},
   "outputs": [
    {
     "ename": "KeyError",
     "evalue": "'Locations'",
     "output_type": "error",
     "traceback": [
      "\u001b[1;31m---------------------------------------------------------------------------\u001b[0m",
      "\u001b[1;31mKeyError\u001b[0m                                  Traceback (most recent call last)",
      "\u001b[1;32m~\\anaconda3\\lib\\site-packages\\pandas\\core\\indexes\\base.py\u001b[0m in \u001b[0;36mget_loc\u001b[1;34m(self, key, method, tolerance)\u001b[0m\n\u001b[0;32m   2645\u001b[0m             \u001b[1;32mtry\u001b[0m\u001b[1;33m:\u001b[0m\u001b[1;33m\u001b[0m\u001b[1;33m\u001b[0m\u001b[0m\n\u001b[1;32m-> 2646\u001b[1;33m                 \u001b[1;32mreturn\u001b[0m \u001b[0mself\u001b[0m\u001b[1;33m.\u001b[0m\u001b[0m_engine\u001b[0m\u001b[1;33m.\u001b[0m\u001b[0mget_loc\u001b[0m\u001b[1;33m(\u001b[0m\u001b[0mkey\u001b[0m\u001b[1;33m)\u001b[0m\u001b[1;33m\u001b[0m\u001b[1;33m\u001b[0m\u001b[0m\n\u001b[0m\u001b[0;32m   2647\u001b[0m             \u001b[1;32mexcept\u001b[0m \u001b[0mKeyError\u001b[0m\u001b[1;33m:\u001b[0m\u001b[1;33m\u001b[0m\u001b[1;33m\u001b[0m\u001b[0m\n",
      "\u001b[1;32mpandas\\_libs\\index.pyx\u001b[0m in \u001b[0;36mpandas._libs.index.IndexEngine.get_loc\u001b[1;34m()\u001b[0m\n",
      "\u001b[1;32mpandas\\_libs\\index.pyx\u001b[0m in \u001b[0;36mpandas._libs.index.IndexEngine.get_loc\u001b[1;34m()\u001b[0m\n",
      "\u001b[1;32mpandas\\_libs\\hashtable_class_helper.pxi\u001b[0m in \u001b[0;36mpandas._libs.hashtable.PyObjectHashTable.get_item\u001b[1;34m()\u001b[0m\n",
      "\u001b[1;32mpandas\\_libs\\hashtable_class_helper.pxi\u001b[0m in \u001b[0;36mpandas._libs.hashtable.PyObjectHashTable.get_item\u001b[1;34m()\u001b[0m\n",
      "\u001b[1;31mKeyError\u001b[0m: 'Locations'",
      "\nDuring handling of the above exception, another exception occurred:\n",
      "\u001b[1;31mKeyError\u001b[0m                                  Traceback (most recent call last)",
      "\u001b[1;32m<ipython-input-53-a47ccb681c55>\u001b[0m in \u001b[0;36m<module>\u001b[1;34m\u001b[0m\n\u001b[1;32m----> 1\u001b[1;33m \u001b[0mlending_co_data\u001b[0m\u001b[1;33m.\u001b[0m\u001b[0mloc\u001b[0m\u001b[1;33m[\u001b[0m\u001b[1;33m:\u001b[0m\u001b[1;33m,\u001b[0m \u001b[1;34m'Locations'\u001b[0m\u001b[1;33m]\u001b[0m\u001b[1;33m\u001b[0m\u001b[1;33m\u001b[0m\u001b[0m\n\u001b[0m",
      "\u001b[1;32m~\\anaconda3\\lib\\site-packages\\pandas\\core\\indexing.py\u001b[0m in \u001b[0;36m__getitem__\u001b[1;34m(self, key)\u001b[0m\n\u001b[0;32m   1760\u001b[0m                 \u001b[1;32mexcept\u001b[0m \u001b[1;33m(\u001b[0m\u001b[0mKeyError\u001b[0m\u001b[1;33m,\u001b[0m \u001b[0mIndexError\u001b[0m\u001b[1;33m,\u001b[0m \u001b[0mAttributeError\u001b[0m\u001b[1;33m)\u001b[0m\u001b[1;33m:\u001b[0m\u001b[1;33m\u001b[0m\u001b[1;33m\u001b[0m\u001b[0m\n\u001b[0;32m   1761\u001b[0m                     \u001b[1;32mpass\u001b[0m\u001b[1;33m\u001b[0m\u001b[1;33m\u001b[0m\u001b[0m\n\u001b[1;32m-> 1762\u001b[1;33m             \u001b[1;32mreturn\u001b[0m \u001b[0mself\u001b[0m\u001b[1;33m.\u001b[0m\u001b[0m_getitem_tuple\u001b[0m\u001b[1;33m(\u001b[0m\u001b[0mkey\u001b[0m\u001b[1;33m)\u001b[0m\u001b[1;33m\u001b[0m\u001b[1;33m\u001b[0m\u001b[0m\n\u001b[0m\u001b[0;32m   1763\u001b[0m         \u001b[1;32melse\u001b[0m\u001b[1;33m:\u001b[0m\u001b[1;33m\u001b[0m\u001b[1;33m\u001b[0m\u001b[0m\n\u001b[0;32m   1764\u001b[0m             \u001b[1;31m# we by definition only have the 0th axis\u001b[0m\u001b[1;33m\u001b[0m\u001b[1;33m\u001b[0m\u001b[1;33m\u001b[0m\u001b[0m\n",
      "\u001b[1;32m~\\anaconda3\\lib\\site-packages\\pandas\\core\\indexing.py\u001b[0m in \u001b[0;36m_getitem_tuple\u001b[1;34m(self, tup)\u001b[0m\n\u001b[0;32m   1270\u001b[0m     \u001b[1;32mdef\u001b[0m \u001b[0m_getitem_tuple\u001b[0m\u001b[1;33m(\u001b[0m\u001b[0mself\u001b[0m\u001b[1;33m,\u001b[0m \u001b[0mtup\u001b[0m\u001b[1;33m:\u001b[0m \u001b[0mTuple\u001b[0m\u001b[1;33m)\u001b[0m\u001b[1;33m:\u001b[0m\u001b[1;33m\u001b[0m\u001b[1;33m\u001b[0m\u001b[0m\n\u001b[0;32m   1271\u001b[0m         \u001b[1;32mtry\u001b[0m\u001b[1;33m:\u001b[0m\u001b[1;33m\u001b[0m\u001b[1;33m\u001b[0m\u001b[0m\n\u001b[1;32m-> 1272\u001b[1;33m             \u001b[1;32mreturn\u001b[0m \u001b[0mself\u001b[0m\u001b[1;33m.\u001b[0m\u001b[0m_getitem_lowerdim\u001b[0m\u001b[1;33m(\u001b[0m\u001b[0mtup\u001b[0m\u001b[1;33m)\u001b[0m\u001b[1;33m\u001b[0m\u001b[1;33m\u001b[0m\u001b[0m\n\u001b[0m\u001b[0;32m   1273\u001b[0m         \u001b[1;32mexcept\u001b[0m \u001b[0mIndexingError\u001b[0m\u001b[1;33m:\u001b[0m\u001b[1;33m\u001b[0m\u001b[1;33m\u001b[0m\u001b[0m\n\u001b[0;32m   1274\u001b[0m             \u001b[1;32mpass\u001b[0m\u001b[1;33m\u001b[0m\u001b[1;33m\u001b[0m\u001b[0m\n",
      "\u001b[1;32m~\\anaconda3\\lib\\site-packages\\pandas\\core\\indexing.py\u001b[0m in \u001b[0;36m_getitem_lowerdim\u001b[1;34m(self, tup)\u001b[0m\n\u001b[0;32m   1387\u001b[0m         \u001b[1;32mfor\u001b[0m \u001b[0mi\u001b[0m\u001b[1;33m,\u001b[0m \u001b[0mkey\u001b[0m \u001b[1;32min\u001b[0m \u001b[0menumerate\u001b[0m\u001b[1;33m(\u001b[0m\u001b[0mtup\u001b[0m\u001b[1;33m)\u001b[0m\u001b[1;33m:\u001b[0m\u001b[1;33m\u001b[0m\u001b[1;33m\u001b[0m\u001b[0m\n\u001b[0;32m   1388\u001b[0m             \u001b[1;32mif\u001b[0m \u001b[0mis_label_like\u001b[0m\u001b[1;33m(\u001b[0m\u001b[0mkey\u001b[0m\u001b[1;33m)\u001b[0m \u001b[1;32mor\u001b[0m \u001b[0misinstance\u001b[0m\u001b[1;33m(\u001b[0m\u001b[0mkey\u001b[0m\u001b[1;33m,\u001b[0m \u001b[0mtuple\u001b[0m\u001b[1;33m)\u001b[0m\u001b[1;33m:\u001b[0m\u001b[1;33m\u001b[0m\u001b[1;33m\u001b[0m\u001b[0m\n\u001b[1;32m-> 1389\u001b[1;33m                 \u001b[0msection\u001b[0m \u001b[1;33m=\u001b[0m \u001b[0mself\u001b[0m\u001b[1;33m.\u001b[0m\u001b[0m_getitem_axis\u001b[0m\u001b[1;33m(\u001b[0m\u001b[0mkey\u001b[0m\u001b[1;33m,\u001b[0m \u001b[0maxis\u001b[0m\u001b[1;33m=\u001b[0m\u001b[0mi\u001b[0m\u001b[1;33m)\u001b[0m\u001b[1;33m\u001b[0m\u001b[1;33m\u001b[0m\u001b[0m\n\u001b[0m\u001b[0;32m   1390\u001b[0m \u001b[1;33m\u001b[0m\u001b[0m\n\u001b[0;32m   1391\u001b[0m                 \u001b[1;31m# we have yielded a scalar ?\u001b[0m\u001b[1;33m\u001b[0m\u001b[1;33m\u001b[0m\u001b[1;33m\u001b[0m\u001b[0m\n",
      "\u001b[1;32m~\\anaconda3\\lib\\site-packages\\pandas\\core\\indexing.py\u001b[0m in \u001b[0;36m_getitem_axis\u001b[1;34m(self, key, axis)\u001b[0m\n\u001b[0;32m   1963\u001b[0m         \u001b[1;31m# fall thru to straight lookup\u001b[0m\u001b[1;33m\u001b[0m\u001b[1;33m\u001b[0m\u001b[1;33m\u001b[0m\u001b[0m\n\u001b[0;32m   1964\u001b[0m         \u001b[0mself\u001b[0m\u001b[1;33m.\u001b[0m\u001b[0m_validate_key\u001b[0m\u001b[1;33m(\u001b[0m\u001b[0mkey\u001b[0m\u001b[1;33m,\u001b[0m \u001b[0maxis\u001b[0m\u001b[1;33m)\u001b[0m\u001b[1;33m\u001b[0m\u001b[1;33m\u001b[0m\u001b[0m\n\u001b[1;32m-> 1965\u001b[1;33m         \u001b[1;32mreturn\u001b[0m \u001b[0mself\u001b[0m\u001b[1;33m.\u001b[0m\u001b[0m_get_label\u001b[0m\u001b[1;33m(\u001b[0m\u001b[0mkey\u001b[0m\u001b[1;33m,\u001b[0m \u001b[0maxis\u001b[0m\u001b[1;33m=\u001b[0m\u001b[0maxis\u001b[0m\u001b[1;33m)\u001b[0m\u001b[1;33m\u001b[0m\u001b[1;33m\u001b[0m\u001b[0m\n\u001b[0m\u001b[0;32m   1966\u001b[0m \u001b[1;33m\u001b[0m\u001b[0m\n\u001b[0;32m   1967\u001b[0m \u001b[1;33m\u001b[0m\u001b[0m\n",
      "\u001b[1;32m~\\anaconda3\\lib\\site-packages\\pandas\\core\\indexing.py\u001b[0m in \u001b[0;36m_get_label\u001b[1;34m(self, label, axis)\u001b[0m\n\u001b[0;32m    623\u001b[0m             \u001b[1;32mraise\u001b[0m \u001b[0mIndexingError\u001b[0m\u001b[1;33m(\u001b[0m\u001b[1;34m\"no slices here, handle elsewhere\"\u001b[0m\u001b[1;33m)\u001b[0m\u001b[1;33m\u001b[0m\u001b[1;33m\u001b[0m\u001b[0m\n\u001b[0;32m    624\u001b[0m \u001b[1;33m\u001b[0m\u001b[0m\n\u001b[1;32m--> 625\u001b[1;33m         \u001b[1;32mreturn\u001b[0m \u001b[0mself\u001b[0m\u001b[1;33m.\u001b[0m\u001b[0mobj\u001b[0m\u001b[1;33m.\u001b[0m\u001b[0m_xs\u001b[0m\u001b[1;33m(\u001b[0m\u001b[0mlabel\u001b[0m\u001b[1;33m,\u001b[0m \u001b[0maxis\u001b[0m\u001b[1;33m=\u001b[0m\u001b[0maxis\u001b[0m\u001b[1;33m)\u001b[0m\u001b[1;33m\u001b[0m\u001b[1;33m\u001b[0m\u001b[0m\n\u001b[0m\u001b[0;32m    626\u001b[0m \u001b[1;33m\u001b[0m\u001b[0m\n\u001b[0;32m    627\u001b[0m     \u001b[1;32mdef\u001b[0m \u001b[0m_get_loc\u001b[0m\u001b[1;33m(\u001b[0m\u001b[0mself\u001b[0m\u001b[1;33m,\u001b[0m \u001b[0mkey\u001b[0m\u001b[1;33m:\u001b[0m \u001b[0mint\u001b[0m\u001b[1;33m,\u001b[0m \u001b[0maxis\u001b[0m\u001b[1;33m:\u001b[0m \u001b[0mint\u001b[0m\u001b[1;33m)\u001b[0m\u001b[1;33m:\u001b[0m\u001b[1;33m\u001b[0m\u001b[1;33m\u001b[0m\u001b[0m\n",
      "\u001b[1;32m~\\anaconda3\\lib\\site-packages\\pandas\\core\\generic.py\u001b[0m in \u001b[0;36mxs\u001b[1;34m(self, key, axis, level, drop_level)\u001b[0m\n\u001b[0;32m   3527\u001b[0m \u001b[1;33m\u001b[0m\u001b[0m\n\u001b[0;32m   3528\u001b[0m         \u001b[1;32mif\u001b[0m \u001b[0maxis\u001b[0m \u001b[1;33m==\u001b[0m \u001b[1;36m1\u001b[0m\u001b[1;33m:\u001b[0m\u001b[1;33m\u001b[0m\u001b[1;33m\u001b[0m\u001b[0m\n\u001b[1;32m-> 3529\u001b[1;33m             \u001b[1;32mreturn\u001b[0m \u001b[0mself\u001b[0m\u001b[1;33m[\u001b[0m\u001b[0mkey\u001b[0m\u001b[1;33m]\u001b[0m\u001b[1;33m\u001b[0m\u001b[1;33m\u001b[0m\u001b[0m\n\u001b[0m\u001b[0;32m   3530\u001b[0m \u001b[1;33m\u001b[0m\u001b[0m\n\u001b[0;32m   3531\u001b[0m         \u001b[0mself\u001b[0m\u001b[1;33m.\u001b[0m\u001b[0m_consolidate_inplace\u001b[0m\u001b[1;33m(\u001b[0m\u001b[1;33m)\u001b[0m\u001b[1;33m\u001b[0m\u001b[1;33m\u001b[0m\u001b[0m\n",
      "\u001b[1;32m~\\anaconda3\\lib\\site-packages\\pandas\\core\\frame.py\u001b[0m in \u001b[0;36m__getitem__\u001b[1;34m(self, key)\u001b[0m\n\u001b[0;32m   2798\u001b[0m             \u001b[1;32mif\u001b[0m \u001b[0mself\u001b[0m\u001b[1;33m.\u001b[0m\u001b[0mcolumns\u001b[0m\u001b[1;33m.\u001b[0m\u001b[0mnlevels\u001b[0m \u001b[1;33m>\u001b[0m \u001b[1;36m1\u001b[0m\u001b[1;33m:\u001b[0m\u001b[1;33m\u001b[0m\u001b[1;33m\u001b[0m\u001b[0m\n\u001b[0;32m   2799\u001b[0m                 \u001b[1;32mreturn\u001b[0m \u001b[0mself\u001b[0m\u001b[1;33m.\u001b[0m\u001b[0m_getitem_multilevel\u001b[0m\u001b[1;33m(\u001b[0m\u001b[0mkey\u001b[0m\u001b[1;33m)\u001b[0m\u001b[1;33m\u001b[0m\u001b[1;33m\u001b[0m\u001b[0m\n\u001b[1;32m-> 2800\u001b[1;33m             \u001b[0mindexer\u001b[0m \u001b[1;33m=\u001b[0m \u001b[0mself\u001b[0m\u001b[1;33m.\u001b[0m\u001b[0mcolumns\u001b[0m\u001b[1;33m.\u001b[0m\u001b[0mget_loc\u001b[0m\u001b[1;33m(\u001b[0m\u001b[0mkey\u001b[0m\u001b[1;33m)\u001b[0m\u001b[1;33m\u001b[0m\u001b[1;33m\u001b[0m\u001b[0m\n\u001b[0m\u001b[0;32m   2801\u001b[0m             \u001b[1;32mif\u001b[0m \u001b[0mis_integer\u001b[0m\u001b[1;33m(\u001b[0m\u001b[0mindexer\u001b[0m\u001b[1;33m)\u001b[0m\u001b[1;33m:\u001b[0m\u001b[1;33m\u001b[0m\u001b[1;33m\u001b[0m\u001b[0m\n\u001b[0;32m   2802\u001b[0m                 \u001b[0mindexer\u001b[0m \u001b[1;33m=\u001b[0m \u001b[1;33m[\u001b[0m\u001b[0mindexer\u001b[0m\u001b[1;33m]\u001b[0m\u001b[1;33m\u001b[0m\u001b[1;33m\u001b[0m\u001b[0m\n",
      "\u001b[1;32m~\\anaconda3\\lib\\site-packages\\pandas\\core\\indexes\\base.py\u001b[0m in \u001b[0;36mget_loc\u001b[1;34m(self, key, method, tolerance)\u001b[0m\n\u001b[0;32m   2646\u001b[0m                 \u001b[1;32mreturn\u001b[0m \u001b[0mself\u001b[0m\u001b[1;33m.\u001b[0m\u001b[0m_engine\u001b[0m\u001b[1;33m.\u001b[0m\u001b[0mget_loc\u001b[0m\u001b[1;33m(\u001b[0m\u001b[0mkey\u001b[0m\u001b[1;33m)\u001b[0m\u001b[1;33m\u001b[0m\u001b[1;33m\u001b[0m\u001b[0m\n\u001b[0;32m   2647\u001b[0m             \u001b[1;32mexcept\u001b[0m \u001b[0mKeyError\u001b[0m\u001b[1;33m:\u001b[0m\u001b[1;33m\u001b[0m\u001b[1;33m\u001b[0m\u001b[0m\n\u001b[1;32m-> 2648\u001b[1;33m                 \u001b[1;32mreturn\u001b[0m \u001b[0mself\u001b[0m\u001b[1;33m.\u001b[0m\u001b[0m_engine\u001b[0m\u001b[1;33m.\u001b[0m\u001b[0mget_loc\u001b[0m\u001b[1;33m(\u001b[0m\u001b[0mself\u001b[0m\u001b[1;33m.\u001b[0m\u001b[0m_maybe_cast_indexer\u001b[0m\u001b[1;33m(\u001b[0m\u001b[0mkey\u001b[0m\u001b[1;33m)\u001b[0m\u001b[1;33m)\u001b[0m\u001b[1;33m\u001b[0m\u001b[1;33m\u001b[0m\u001b[0m\n\u001b[0m\u001b[0;32m   2649\u001b[0m         \u001b[0mindexer\u001b[0m \u001b[1;33m=\u001b[0m \u001b[0mself\u001b[0m\u001b[1;33m.\u001b[0m\u001b[0mget_indexer\u001b[0m\u001b[1;33m(\u001b[0m\u001b[1;33m[\u001b[0m\u001b[0mkey\u001b[0m\u001b[1;33m]\u001b[0m\u001b[1;33m,\u001b[0m \u001b[0mmethod\u001b[0m\u001b[1;33m=\u001b[0m\u001b[0mmethod\u001b[0m\u001b[1;33m,\u001b[0m \u001b[0mtolerance\u001b[0m\u001b[1;33m=\u001b[0m\u001b[0mtolerance\u001b[0m\u001b[1;33m)\u001b[0m\u001b[1;33m\u001b[0m\u001b[1;33m\u001b[0m\u001b[0m\n\u001b[0;32m   2650\u001b[0m         \u001b[1;32mif\u001b[0m \u001b[0mindexer\u001b[0m\u001b[1;33m.\u001b[0m\u001b[0mndim\u001b[0m \u001b[1;33m>\u001b[0m \u001b[1;36m1\u001b[0m \u001b[1;32mor\u001b[0m \u001b[0mindexer\u001b[0m\u001b[1;33m.\u001b[0m\u001b[0msize\u001b[0m \u001b[1;33m>\u001b[0m \u001b[1;36m1\u001b[0m\u001b[1;33m:\u001b[0m\u001b[1;33m\u001b[0m\u001b[1;33m\u001b[0m\u001b[0m\n",
      "\u001b[1;32mpandas\\_libs\\index.pyx\u001b[0m in \u001b[0;36mpandas._libs.index.IndexEngine.get_loc\u001b[1;34m()\u001b[0m\n",
      "\u001b[1;32mpandas\\_libs\\index.pyx\u001b[0m in \u001b[0;36mpandas._libs.index.IndexEngine.get_loc\u001b[1;34m()\u001b[0m\n",
      "\u001b[1;32mpandas\\_libs\\hashtable_class_helper.pxi\u001b[0m in \u001b[0;36mpandas._libs.hashtable.PyObjectHashTable.get_item\u001b[1;34m()\u001b[0m\n",
      "\u001b[1;32mpandas\\_libs\\hashtable_class_helper.pxi\u001b[0m in \u001b[0;36mpandas._libs.hashtable.PyObjectHashTable.get_item\u001b[1;34m()\u001b[0m\n",
      "\u001b[1;31mKeyError\u001b[0m: 'Locations'"
     ]
    }
   ],
   "source": [
    "lending_co_data.loc[:, 'Locations']"
   ]
  },
  {
   "cell_type": "code",
   "execution_count": null,
   "metadata": {},
   "outputs": [],
   "source": []
  },
  {
   "cell_type": "code",
   "execution_count": null,
   "metadata": {},
   "outputs": [],
   "source": []
  },
  {
   "cell_type": "code",
   "execution_count": null,
   "metadata": {},
   "outputs": [],
   "source": []
  }
 ],
 "metadata": {
  "kernelspec": {
   "display_name": "Python 3",
   "language": "python",
   "name": "python3"
  },
  "language_info": {
   "codemirror_mode": {
    "name": "ipython",
    "version": 3
   },
   "file_extension": ".py",
   "mimetype": "text/x-python",
   "name": "python",
   "nbconvert_exporter": "python",
   "pygments_lexer": "ipython3",
   "version": "3.8.3"
  }
 },
 "nbformat": 4,
 "nbformat_minor": 2
}
